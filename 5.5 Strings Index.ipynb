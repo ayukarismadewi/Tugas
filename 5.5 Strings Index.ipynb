{
 "cells": [
  {
   "cell_type": "code",
   "execution_count": 5,
   "id": "cea6c41c",
   "metadata": {},
   "outputs": [],
   "source": [
    "tugas = 'ini tugas algoritma'"
   ]
  },
  {
   "cell_type": "code",
   "execution_count": 6,
   "id": "90e56df3",
   "metadata": {},
   "outputs": [
    {
     "name": "stdout",
     "output_type": "stream",
     "text": [
      "in\n"
     ]
    }
   ],
   "source": [
    "print(tugas[0:2])"
   ]
  },
  {
   "cell_type": "code",
   "execution_count": 7,
   "id": "596768eb",
   "metadata": {},
   "outputs": [
    {
     "name": "stdout",
     "output_type": "stream",
     "text": [
      "ini tugas algori\n"
     ]
    }
   ],
   "source": [
    "print(tugas[0:-3])"
   ]
  },
  {
   "cell_type": "code",
   "execution_count": 8,
   "id": "d86fa368",
   "metadata": {},
   "outputs": [
    {
     "name": "stdout",
     "output_type": "stream",
     "text": [
      "s algorit\n"
     ]
    }
   ],
   "source": [
    "print(tugas[8:-2])"
   ]
  },
  {
   "cell_type": "code",
   "execution_count": 14,
   "id": "f8a0fb7c",
   "metadata": {},
   "outputs": [
    {
     "name": "stdout",
     "output_type": "stream",
     "text": [
      "tgsagr\n"
     ]
    }
   ],
   "source": [
    "print(tugas[4:-3:2])"
   ]
  },
  {
   "cell_type": "code",
   "execution_count": 15,
   "id": "58787112",
   "metadata": {},
   "outputs": [
    {
     "name": "stdout",
     "output_type": "stream",
     "text": [
      "i\n"
     ]
    }
   ],
   "source": [
    "print(tugas[2])"
   ]
  },
  {
   "cell_type": "code",
   "execution_count": 16,
   "id": "1e965cfc",
   "metadata": {},
   "outputs": [
    {
     "name": "stdout",
     "output_type": "stream",
     "text": [
      "m\n"
     ]
    }
   ],
   "source": [
    "print(tugas[-2])"
   ]
  },
  {
   "cell_type": "code",
   "execution_count": 17,
   "id": "a29b98a5",
   "metadata": {},
   "outputs": [
    {
     "name": "stdout",
     "output_type": "stream",
     "text": [
      "i\n"
     ]
    }
   ],
   "source": [
    "print(tugas[0])"
   ]
  },
  {
   "cell_type": "code",
   "execution_count": 18,
   "id": "c1ef3d36",
   "metadata": {},
   "outputs": [
    {
     "name": "stdout",
     "output_type": "stream",
     "text": [
      "ini tugas algoritma\n"
     ]
    }
   ],
   "source": [
    "print(tugas[:])"
   ]
  }
 ],
 "metadata": {
  "kernelspec": {
   "display_name": "Python 3 (ipykernel)",
   "language": "python",
   "name": "python3"
  },
  "language_info": {
   "codemirror_mode": {
    "name": "ipython",
    "version": 3
   },
   "file_extension": ".py",
   "mimetype": "text/x-python",
   "name": "python",
   "nbconvert_exporter": "python",
   "pygments_lexer": "ipython3",
   "version": "3.9.7"
  }
 },
 "nbformat": 4,
 "nbformat_minor": 5
}
