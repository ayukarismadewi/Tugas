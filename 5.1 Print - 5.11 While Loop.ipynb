{
 "cells": [
  {
   "cell_type": "markdown",
   "id": "285b181c",
   "metadata": {},
   "source": [
    "# 5.1 Print"
   ]
  },
  {
   "cell_type": "code",
   "execution_count": 3,
   "id": "83583dd0",
   "metadata": {},
   "outputs": [
    {
     "name": "stdout",
     "output_type": "stream",
     "text": [
      "Kelas Algoritma Asik\n"
     ]
    }
   ],
   "source": [
    "print ('Kelas Algoritma Asik')"
   ]
  },
  {
   "cell_type": "code",
   "execution_count": 4,
   "id": "cc7e344b",
   "metadata": {},
   "outputs": [
    {
     "name": "stdout",
     "output_type": "stream",
     "text": [
      "Saya senang sekali belajar algoritma\n"
     ]
    }
   ],
   "source": [
    "print (\"Saya senang sekali belajar algoritma\")"
   ]
  },
  {
   "cell_type": "code",
   "execution_count": 5,
   "id": "28ea4b23",
   "metadata": {},
   "outputs": [
    {
     "name": "stdout",
     "output_type": "stream",
     "text": [
      "He is so \"handsome\"\n"
     ]
    }
   ],
   "source": [
    "print ('He is so \"handsome\"')"
   ]
  },
  {
   "cell_type": "code",
   "execution_count": 6,
   "id": "96988923",
   "metadata": {},
   "outputs": [
    {
     "name": "stdout",
     "output_type": "stream",
     "text": [
      "Ini Kelas Algoritma\n"
     ]
    }
   ],
   "source": [
    "print (\"Ini Kelas Algoritma\")"
   ]
  },
  {
   "cell_type": "code",
   "execution_count": 7,
   "id": "4cb4ec76",
   "metadata": {},
   "outputs": [
    {
     "name": "stdout",
     "output_type": "stream",
     "text": [
      "I am so beautiful\n"
     ]
    }
   ],
   "source": [
    "print ('I am so beautiful')"
   ]
  },
  {
   "cell_type": "code",
   "execution_count": 8,
   "id": "5a2852ae",
   "metadata": {},
   "outputs": [
    {
     "name": "stdout",
     "output_type": "stream",
     "text": [
      "I don't know the answer\n"
     ]
    }
   ],
   "source": [
    "print (\"I don't know the answer\")"
   ]
  },
  {
   "cell_type": "code",
   "execution_count": 9,
   "id": "5257495d",
   "metadata": {},
   "outputs": [
    {
     "name": "stdout",
     "output_type": "stream",
     "text": [
      "Have a nice day\n"
     ]
    }
   ],
   "source": [
    "print (\"Have a nice day\")"
   ]
  },
  {
   "cell_type": "code",
   "execution_count": 10,
   "id": "ea9c792b",
   "metadata": {},
   "outputs": [
    {
     "name": "stdout",
     "output_type": "stream",
     "text": [
      "Hello world\n"
     ]
    }
   ],
   "source": [
    "print (\"Hello world\")"
   ]
  },
  {
   "cell_type": "code",
   "execution_count": 11,
   "id": "2fb66514",
   "metadata": {},
   "outputs": [
    {
     "name": "stdout",
     "output_type": "stream",
     "text": [
      "Bye world\n"
     ]
    }
   ],
   "source": [
    "print (\"Bye world\")"
   ]
  },
  {
   "cell_type": "code",
   "execution_count": 12,
   "id": "f30c8b78",
   "metadata": {},
   "outputs": [
    {
     "name": "stdout",
     "output_type": "stream",
     "text": [
      "Hello algoritma\n"
     ]
    }
   ],
   "source": [
    "print (\"Hello algoritma\")"
   ]
  },
  {
   "cell_type": "code",
   "execution_count": 13,
   "id": "e55fa931",
   "metadata": {},
   "outputs": [
    {
     "name": "stdout",
     "output_type": "stream",
     "text": [
      "10\n",
      "1000\n",
      "10000\n"
     ]
    }
   ],
   "source": [
    "anak_kost = 10\n",
    "uang_disaku = 1000\n",
    "print (anak_kost)\n",
    "print (uang_disaku)\n",
    "print (anak_kost*uang_disaku)"
   ]
  },
  {
   "cell_type": "code",
   "execution_count": 15,
   "id": "38348cea",
   "metadata": {},
   "outputs": [
    {
     "name": "stdout",
     "output_type": "stream",
     "text": [
      "Abdul Mateen Bolkiah, MBA\n"
     ]
    }
   ],
   "source": [
    "first_name = \"Abdul \"\n",
    "middle_name = \"Mateen \"\n",
    "last_name = \"Bolkiah\"\n",
    "degree = \", MBA\"\n",
    "print (first_name + middle_name + last_name + degree)"
   ]
  },
  {
   "cell_type": "markdown",
   "id": "8aa5463b",
   "metadata": {},
   "source": [
    "# 5.2 Input"
   ]
  },
  {
   "cell_type": "code",
   "execution_count": 16,
   "id": "014150af",
   "metadata": {},
   "outputs": [
    {
     "name": "stdout",
     "output_type": "stream",
     "text": [
      "Siapakah nama Anda? Ayu Karisma\n",
      "Apa kegiatan Anda sekarang, Ayu Karisma? mengerjakan tugas algoritma\n",
      "Semangat mengerjakan tugas algoritma nya yah, Ayu Karisma! \n"
     ]
    }
   ],
   "source": [
    "nama = input (\"Siapakah nama Anda? \")\n",
    "kegiatan = input ('Apa kegiatan Anda sekarang, ' + nama + \"? \")\n",
    "print (\"Semangat \" + kegiatan + \" nya yah, \" + nama + \"! \")"
   ]
  },
  {
   "cell_type": "code",
   "execution_count": 17,
   "id": "79286722",
   "metadata": {},
   "outputs": [
    {
     "name": "stdout",
     "output_type": "stream",
     "text": [
      "Tugas apa yang dikerjakan? algoritma\n",
      "Kapan deadline dari tugas algoritma tersebut?senin\n",
      "Ayo kumpul tugas algoritma sebelum hari senin! \n"
     ]
    }
   ],
   "source": [
    "tugas = input (\"Tugas apa yang dikerjakan? \")\n",
    "kumpul = input (\"Kapan deadline dari tugas \" + tugas + ' tersebut?')\n",
    "print (\"Ayo kumpul tugas \" + tugas + \" sebelum hari \" + kumpul + \"! \" )"
   ]
  },
  {
   "cell_type": "markdown",
   "id": "c49bbb04",
   "metadata": {},
   "source": [
    "# 5.3 Type Data pada Phython"
   ]
  },
  {
   "cell_type": "code",
   "execution_count": 18,
   "id": "640b7b55",
   "metadata": {},
   "outputs": [
    {
     "name": "stdout",
     "output_type": "stream",
     "text": [
      "Berapa jumlah uang disaku anda? 100\n",
      "Berapa jumlah uang dibank? 900\n",
      "Total uang adalah Rp 100900\n"
     ]
    }
   ],
   "source": [
    "uang_disaku = input (\"Berapa jumlah uang disaku anda? \")\n",
    "uang_dibank = input (\"Berapa jumlah uang dibank? \")\n",
    "print (\"Total uang adalah Rp \" + uang_disaku + uang_dibank)"
   ]
  },
  {
   "cell_type": "code",
   "execution_count": 19,
   "id": "1b8adf93",
   "metadata": {},
   "outputs": [
    {
     "name": "stdout",
     "output_type": "stream",
     "text": [
      "Berapa jumlah uang disaku anda? 100\n",
      "Berapa jumlah uang dibank? 900\n",
      "Total uang adalah Rp 1000\n"
     ]
    }
   ],
   "source": [
    "uang_disaku = input (\"Berapa jumlah uang disaku anda? \")\n",
    "uang_dibank = input (\"Berapa jumlah uang dibank? \")\n",
    "total_uang = int (uang_disaku) + int (uang_dibank)\n",
    "print (\"Total uang adalah Rp \" + str (total_uang))"
   ]
  },
  {
   "cell_type": "code",
   "execution_count": 20,
   "id": "0ac70d54",
   "metadata": {},
   "outputs": [
    {
     "name": "stdout",
     "output_type": "stream",
     "text": [
      "Berapa jumlah uang disaku anda? 5.5\n",
      "Berapa jumlah uang dibank? 4.5\n",
      "Total uang adalah Rp 10.0\n"
     ]
    }
   ],
   "source": [
    "uang_disaku = input (\"Berapa jumlah uang disaku anda? \")\n",
    "uang_dibank = input (\"Berapa jumlah uang dibank? \")\n",
    "total_uang = float (uang_disaku) + float (uang_dibank)\n",
    "print (\"Total uang adalah Rp \" + str (total_uang))"
   ]
  },
  {
   "cell_type": "code",
   "execution_count": 21,
   "id": "a52ce48f",
   "metadata": {},
   "outputs": [
    {
     "name": "stdout",
     "output_type": "stream",
     "text": [
      "Berapa jumlah uang disaku anda? 0.5\n",
      "Berapa jumlah uang dibank? 0.01\n",
      "Total uang adalah Rp 0.51\n"
     ]
    }
   ],
   "source": [
    "uang_disaku = input (\"Berapa jumlah uang disaku anda? \")\n",
    "uang_dibank = input (\"Berapa jumlah uang dibank? \")\n",
    "total_uang = float (uang_disaku) + float (uang_dibank)\n",
    "print (\"Total uang adalah Rp \" + str (total_uang))"
   ]
  },
  {
   "cell_type": "code",
   "execution_count": 2,
   "id": "b71ca8ec",
   "metadata": {},
   "outputs": [
    {
     "name": "stdout",
     "output_type": "stream",
     "text": [
      "Bilangan satu: 0.05\n",
      "Bilangan dua: 0.6\n",
      "Total bilangan 0.65\n"
     ]
    }
   ],
   "source": [
    "bilangan_satu = input (\"Bilangan satu: \")\n",
    "bilangan_dua = input (\"Bilangan dua: \")\n",
    "total = float (bilangan_satu) + float (bilangan_dua)\n",
    "print (\"Total bilangan \" + str (total))"
   ]
  },
  {
   "cell_type": "code",
   "execution_count": 7,
   "id": "e9b3ce56",
   "metadata": {},
   "outputs": [
    {
     "name": "stdout",
     "output_type": "stream",
     "text": [
      "Bilangan satu: dua puluh\n",
      "Bilangan dua:  lima\n",
      "Total bilangan dua puluh lima\n"
     ]
    }
   ],
   "source": [
    "bilangan_satu = input (\"Bilangan satu: \")\n",
    "bilangan_dua = input (\"Bilangan dua: \")\n",
    "total = str (bilangan_satu ) + str ( bilangan_dua)\n",
    "print (\"Total bilangan \" + str ( total))"
   ]
  },
  {
   "cell_type": "markdown",
   "id": "70df52b9",
   "metadata": {},
   "source": [
    "# 5.4 Formatted String"
   ]
  },
  {
   "cell_type": "code",
   "execution_count": 8,
   "id": "30a2c9f8",
   "metadata": {},
   "outputs": [
    {
     "name": "stdout",
     "output_type": "stream",
     "text": [
      "project algoritma menggunakan bahasa pemrograman python diposting di github sebelum senin\n"
     ]
    }
   ],
   "source": [
    "tugas = \"algoritma\"\n",
    "bahasa = \"python\"\n",
    "tempat_mengumpul = \"github\"\n",
    "deadline = \"senin\"\n",
    "print ('project ' + tugas + ' menggunakan bahasa pemrograman ' + bahasa + ' diposting di ' + tempat_mengumpul +\n",
    "       ' sebelum ' + deadline)"
   ]
  },
  {
   "cell_type": "code",
   "execution_count": 9,
   "id": "c31b2238",
   "metadata": {},
   "outputs": [
    {
     "name": "stdout",
     "output_type": "stream",
     "text": [
      "project algoritma menggunakan bahasa pemrograman python diposting di github sebelum senin\n"
     ]
    }
   ],
   "source": [
    "print (f'project {tugas} menggunakan bahasa pemrograman {bahasa} diposting di {tempat_mengumpul} sebelum {deadline}')"
   ]
  },
  {
   "cell_type": "code",
   "execution_count": 10,
   "id": "11774f49",
   "metadata": {},
   "outputs": [
    {
     "name": "stdout",
     "output_type": "stream",
     "text": [
      "project algoritma menggunakan bahasa pemrograman python diposting di github sebelum senin\n"
     ]
    }
   ],
   "source": [
    "print (f\"project {tugas} menggunakan bahasa pemrograman {bahasa} diposting di {tempat_mengumpul} sebelum {deadline}\")"
   ]
  },
  {
   "cell_type": "markdown",
   "id": "e22056b8",
   "metadata": {},
   "source": [
    "# 5.5 Strings Index"
   ]
  },
  {
   "cell_type": "code",
   "execution_count": 11,
   "id": "82a2f971",
   "metadata": {},
   "outputs": [],
   "source": [
    "tugas = 'ini tugas algoritma'"
   ]
  },
  {
   "cell_type": "code",
   "execution_count": 12,
   "id": "c8311bcf",
   "metadata": {},
   "outputs": [
    {
     "name": "stdout",
     "output_type": "stream",
     "text": [
      "in\n"
     ]
    }
   ],
   "source": [
    "print(tugas[0:2])"
   ]
  },
  {
   "cell_type": "code",
   "execution_count": 13,
   "id": "22f390be",
   "metadata": {},
   "outputs": [
    {
     "name": "stdout",
     "output_type": "stream",
     "text": [
      "ini tugas algori\n"
     ]
    }
   ],
   "source": [
    "print(tugas[0:-3])"
   ]
  },
  {
   "cell_type": "code",
   "execution_count": 14,
   "id": "a58162ac",
   "metadata": {},
   "outputs": [
    {
     "name": "stdout",
     "output_type": "stream",
     "text": [
      "s algorit\n"
     ]
    }
   ],
   "source": [
    "print(tugas[8:-2])"
   ]
  },
  {
   "cell_type": "code",
   "execution_count": 15,
   "id": "2eb5fbf7",
   "metadata": {},
   "outputs": [
    {
     "name": "stdout",
     "output_type": "stream",
     "text": [
      "tgsagr\n"
     ]
    }
   ],
   "source": [
    "print(tugas[4:-3:2])"
   ]
  },
  {
   "cell_type": "code",
   "execution_count": 16,
   "id": "68898702",
   "metadata": {},
   "outputs": [
    {
     "name": "stdout",
     "output_type": "stream",
     "text": [
      "i\n"
     ]
    }
   ],
   "source": [
    "print(tugas[2])"
   ]
  },
  {
   "cell_type": "code",
   "execution_count": 17,
   "id": "06a30842",
   "metadata": {},
   "outputs": [
    {
     "name": "stdout",
     "output_type": "stream",
     "text": [
      "m\n"
     ]
    }
   ],
   "source": [
    "print(tugas[-2])"
   ]
  },
  {
   "cell_type": "code",
   "execution_count": 18,
   "id": "0aa451cc",
   "metadata": {},
   "outputs": [
    {
     "name": "stdout",
     "output_type": "stream",
     "text": [
      "i\n"
     ]
    }
   ],
   "source": [
    "print(tugas[0])"
   ]
  },
  {
   "cell_type": "code",
   "execution_count": 19,
   "id": "a66102e5",
   "metadata": {},
   "outputs": [
    {
     "name": "stdout",
     "output_type": "stream",
     "text": [
      "ini tugas algoritma\n"
     ]
    }
   ],
   "source": [
    "print(tugas[:])"
   ]
  },
  {
   "cell_type": "markdown",
   "id": "1037a4f1",
   "metadata": {},
   "source": [
    "# 5.6 Strings Methods"
   ]
  },
  {
   "cell_type": "code",
   "execution_count": 20,
   "id": "790d9803",
   "metadata": {},
   "outputs": [],
   "source": [
    "tugas = 'Algoritma sangat asik'"
   ]
  },
  {
   "cell_type": "code",
   "execution_count": 21,
   "id": "a1c13847",
   "metadata": {},
   "outputs": [
    {
     "name": "stdout",
     "output_type": "stream",
     "text": [
      "21\n"
     ]
    }
   ],
   "source": [
    "print(len(tugas))"
   ]
  },
  {
   "cell_type": "code",
   "execution_count": 22,
   "id": "5e760100",
   "metadata": {},
   "outputs": [
    {
     "data": {
      "text/plain": [
       "'ALGORITMA SANGAT ASIK'"
      ]
     },
     "execution_count": 22,
     "metadata": {},
     "output_type": "execute_result"
    }
   ],
   "source": [
    "tugas.upper()"
   ]
  },
  {
   "cell_type": "code",
   "execution_count": 23,
   "id": "389465ee",
   "metadata": {},
   "outputs": [
    {
     "data": {
      "text/plain": [
       "'algoritma sangat asik'"
      ]
     },
     "execution_count": 23,
     "metadata": {},
     "output_type": "execute_result"
    }
   ],
   "source": [
    "tugas.lower()"
   ]
  },
  {
   "cell_type": "code",
   "execution_count": 24,
   "id": "33257d74",
   "metadata": {},
   "outputs": [
    {
     "data": {
      "text/plain": [
       "0"
      ]
     },
     "execution_count": 24,
     "metadata": {},
     "output_type": "execute_result"
    }
   ],
   "source": [
    "tugas.find('Algoritma')"
   ]
  },
  {
   "cell_type": "code",
   "execution_count": 25,
   "id": "56d94f3f",
   "metadata": {},
   "outputs": [
    {
     "data": {
      "text/plain": [
       "10"
      ]
     },
     "execution_count": 25,
     "metadata": {},
     "output_type": "execute_result"
    }
   ],
   "source": [
    "tugas.find('sangat')"
   ]
  },
  {
   "cell_type": "code",
   "execution_count": 26,
   "id": "89a04ea5",
   "metadata": {},
   "outputs": [
    {
     "data": {
      "text/plain": [
       "17"
      ]
     },
     "execution_count": 26,
     "metadata": {},
     "output_type": "execute_result"
    }
   ],
   "source": [
    "tugas.find('asik')"
   ]
  },
  {
   "cell_type": "code",
   "execution_count": 27,
   "id": "6ecf3502",
   "metadata": {},
   "outputs": [
    {
     "data": {
      "text/plain": [
       "-1"
      ]
     },
     "execution_count": 27,
     "metadata": {},
     "output_type": "execute_result"
    }
   ],
   "source": [
    "tugas.find('algoritma')"
   ]
  },
  {
   "cell_type": "code",
   "execution_count": 28,
   "id": "d4d207f5",
   "metadata": {},
   "outputs": [
    {
     "data": {
      "text/plain": [
       "-1"
      ]
     },
     "execution_count": 28,
     "metadata": {},
     "output_type": "execute_result"
    }
   ],
   "source": [
    "tugas.find('Asik')"
   ]
  },
  {
   "cell_type": "code",
   "execution_count": 29,
   "id": "e3784217",
   "metadata": {},
   "outputs": [
    {
     "data": {
      "text/plain": [
       "-1"
      ]
     },
     "execution_count": 29,
     "metadata": {},
     "output_type": "execute_result"
    }
   ],
   "source": [
    "tugas.find('Sangat')"
   ]
  },
  {
   "cell_type": "code",
   "execution_count": 30,
   "id": "280675e3",
   "metadata": {},
   "outputs": [
    {
     "data": {
      "text/plain": [
       "'Algoritma sangat menyenangkan'"
      ]
     },
     "execution_count": 30,
     "metadata": {},
     "output_type": "execute_result"
    }
   ],
   "source": [
    "tugas.replace('asik','menyenangkan')"
   ]
  },
  {
   "cell_type": "code",
   "execution_count": 31,
   "id": "8a840e02",
   "metadata": {},
   "outputs": [
    {
     "name": "stdout",
     "output_type": "stream",
     "text": [
      "True\n"
     ]
    }
   ],
   "source": [
    "print ('asik' in tugas)"
   ]
  },
  {
   "cell_type": "code",
   "execution_count": 32,
   "id": "8e93f1c4",
   "metadata": {},
   "outputs": [
    {
     "name": "stdout",
     "output_type": "stream",
     "text": [
      "False\n"
     ]
    }
   ],
   "source": [
    "print ('Asik' in tugas)"
   ]
  },
  {
   "cell_type": "code",
   "execution_count": 33,
   "id": "42f88f62",
   "metadata": {},
   "outputs": [
    {
     "name": "stdout",
     "output_type": "stream",
     "text": [
      "False\n"
     ]
    }
   ],
   "source": [
    "print ('menyenangkan' in tugas)"
   ]
  },
  {
   "cell_type": "markdown",
   "id": "ba2e5b3b",
   "metadata": {},
   "source": [
    "# 5.7 Operasi Matematika di Phython"
   ]
  },
  {
   "cell_type": "code",
   "execution_count": 36,
   "id": "0a9a9e59",
   "metadata": {},
   "outputs": [
    {
     "name": "stdout",
     "output_type": "stream",
     "text": [
      "11\n",
      "99\n",
      "10.0\n",
      "20\n",
      "2\n",
      "16\n",
      "25\n",
      "15\n",
      "30\n"
     ]
    }
   ],
   "source": [
    "print (5+6)\n",
    "print (100-1)\n",
    "print (100/10)\n",
    "print (20*1)\n",
    "print (5%3)\n",
    "print (4**2)\n",
    "x=20\n",
    "x+= 5\n",
    "print(x)\n",
    "x-=10\n",
    "print(x)\n",
    "x*=2\n",
    "print(x)"
   ]
  },
  {
   "cell_type": "markdown",
   "id": "f58e03d1",
   "metadata": {},
   "source": [
    "# 5.8 Operator Perbandingan di Phython"
   ]
  },
  {
   "cell_type": "code",
   "execution_count": 37,
   "id": "e13f1d28",
   "metadata": {},
   "outputs": [
    {
     "name": "stdout",
     "output_type": "stream",
     "text": [
      "False\n",
      "True\n",
      "True\n",
      "True\n",
      "True\n",
      "True\n"
     ]
    }
   ],
   "source": [
    "x = 3<2\n",
    "print (x)\n",
    "x = 2<3\n",
    "print (x)\n",
    "x = 3 >= 2\n",
    "print (x)\n",
    "x = 2 <= 3\n",
    "print (x)\n",
    "x = 3 == 3\n",
    "print (x)\n",
    "x = 3 != 4\n",
    "print (x)"
   ]
  },
  {
   "cell_type": "code",
   "execution_count": 38,
   "id": "f21402c3",
   "metadata": {},
   "outputs": [
    {
     "name": "stdout",
     "output_type": "stream",
     "text": [
      "True\n",
      "False\n",
      "False\n",
      "False\n",
      "False\n",
      "False\n"
     ]
    }
   ],
   "source": [
    "x = 2<3\n",
    "print (x)\n",
    "x = 3<2\n",
    "print (x)\n",
    "x = 2 >= 3\n",
    "print (x)\n",
    "x = 3 <= 2\n",
    "print (x)\n",
    "x = 3 == 4\n",
    "print (x)\n",
    "x = 3 != 3\n",
    "print (x)"
   ]
  },
  {
   "cell_type": "markdown",
   "id": "295a138f",
   "metadata": {},
   "source": [
    "# 5.9 Operator Logika di Phython"
   ]
  },
  {
   "cell_type": "code",
   "execution_count": 39,
   "id": "5b65124c",
   "metadata": {},
   "outputs": [
    {
     "name": "stdout",
     "output_type": "stream",
     "text": [
      "True\n"
     ]
    }
   ],
   "source": [
    "bilangan_satu = 11\n",
    "bilangan_kedua = 20\n",
    "print (bilangan_satu > 10 and bilangan_kedua < 21)"
   ]
  },
  {
   "cell_type": "code",
   "execution_count": 40,
   "id": "029baa38",
   "metadata": {},
   "outputs": [
    {
     "name": "stdout",
     "output_type": "stream",
     "text": [
      "True\n"
     ]
    }
   ],
   "source": [
    "print (bilangan_satu < 10 or bilangan_kedua < 21)"
   ]
  },
  {
   "cell_type": "code",
   "execution_count": 41,
   "id": "ade52a4a",
   "metadata": {},
   "outputs": [
    {
     "name": "stdout",
     "output_type": "stream",
     "text": [
      "False\n"
     ]
    }
   ],
   "source": [
    "print (bilangan_satu < 10 or bilangan_kedua > 21)"
   ]
  },
  {
   "cell_type": "code",
   "execution_count": 42,
   "id": "4a357837",
   "metadata": {},
   "outputs": [
    {
     "name": "stdout",
     "output_type": "stream",
     "text": [
      "True\n"
     ]
    }
   ],
   "source": [
    "print (bilangan_satu > 10 or bilangan_kedua > 21)"
   ]
  },
  {
   "cell_type": "code",
   "execution_count": 43,
   "id": "9183ed2c",
   "metadata": {},
   "outputs": [
    {
     "name": "stdout",
     "output_type": "stream",
     "text": [
      "True\n"
     ]
    }
   ],
   "source": [
    "print (not bilangan_satu < 10 or bilangan_kedua > 21)"
   ]
  },
  {
   "cell_type": "markdown",
   "id": "33b30dc2",
   "metadata": {},
   "source": [
    "# 5.10 Operator if di Phython"
   ]
  },
  {
   "cell_type": "code",
   "execution_count": 10,
   "id": "47518593",
   "metadata": {},
   "outputs": [
    {
     "name": "stdout",
     "output_type": "stream",
     "text": [
      "Masukan nilai anda 11\n",
      "Nilai E\n",
      "Perbaiki tahun depan\n"
     ]
    }
   ],
   "source": [
    "nilai = float(input(\"Masukan nilai anda \"))\n",
    "if nilai >= 80:\n",
    "    print(\"Nilai A\")\n",
    "    print(\"Anda sangat hebat\")\n",
    "if nilai < 80 and nilai >= 70:\n",
    "    print(\"Nilai B\")\n",
    "    print(\"Sudah Baik, tingkatkan\")\n",
    "if nilai < 70 and nilai >= 60:\n",
    "    print(\"Nilai C\")\n",
    "    print(\"Cukup, tingkatkan\")\n",
    "if nilai < 60 and nilai >= 50:\n",
    "    print(\"Nilai D\")\n",
    "    print(\"Mari perbaiki ditahun depan\")\n",
    "if nilai < 50:\n",
    "    print(\"Nilai E\")\n",
    "    print(\"Perbaiki tahun depan\")"
   ]
  },
  {
   "cell_type": "code",
   "execution_count": 9,
   "id": "800a7deb",
   "metadata": {},
   "outputs": [
    {
     "name": "stdout",
     "output_type": "stream",
     "text": [
      "Masukan nilai anda 79\n",
      "Nilai B\n",
      "Sudah Baik, tingkatkan\n"
     ]
    }
   ],
   "source": [
    "nilai = float(input(\"Masukan nilai anda \"))\n",
    "if nilai >= 80:\n",
    "    print(\"Nilai A\")\n",
    "    print(\"Anda sangat hebat\")\n",
    "elif nilai >= 70:\n",
    "    print(\"Nilai B\")\n",
    "    print(\"Sudah Baik, tingkatkan\")\n",
    "elif nilai >= 60:\n",
    "    print(\"Nilai C\")\n",
    "    print(\"Cukup, tingkatkan\")\n",
    "elif nilai >= 50:\n",
    "    print(\"Nilai D\")\n",
    "    print(\"Mari perbaiki tahun depan\")\n",
    "if nilai < 50:\n",
    "    print(\"Nilai E\")\n",
    "    print(\"Perbaiki tahun depan\")"
   ]
  },
  {
   "cell_type": "code",
   "execution_count": 11,
   "id": "a7d5ff28",
   "metadata": {},
   "outputs": [
    {
     "name": "stdout",
     "output_type": "stream",
     "text": [
      "Masukan ukuran sepatu anda 44\n",
      "M\n"
     ]
    }
   ],
   "source": [
    "nilai = float(input(\"Masukan ukuran sepatu anda \"))\n",
    "if nilai >= 49:\n",
    "    print(\"XL\")\n",
    "elif nilai >= 42:\n",
    "    print(\"M\")\n",
    "elif nilai >= 38:\n",
    "    print(\"S\")\n",
    "if nilai < 38:\n",
    "    print(\"XS\")"
   ]
  },
  {
   "cell_type": "code",
   "execution_count": 14,
   "id": "8606d249",
   "metadata": {},
   "outputs": [
    {
     "name": "stdout",
     "output_type": "stream",
     "text": [
      "berapakah tinggi kamu? 165\n",
      "tingginya dalam cm atau inci? cm\n",
      "tinggi anda adalah 64.960665 inci\n"
     ]
    }
   ],
   "source": [
    "tinggi = float(input(\"berapakah tinggi kamu? \"))\n",
    "cm_atau_inci = input (\"tingginya dalam cm atau inci? \")\n",
    "\n",
    "if cm_atau_inci.upper() == 'CM' :\n",
    "    tinggi = tinggi*0.393701\n",
    "    print(\"tinggi anda adalah \" + str(tinggi) + \" inci\")\n",
    "elif cm_atau_inci.upper()== 'INCI':\n",
    "    tinggi = tinggi/0.393701\n",
    "    print(f\"tinggi anda adalah {tinggi} cm\")"
   ]
  },
  {
   "cell_type": "code",
   "execution_count": 15,
   "id": "6081e34f",
   "metadata": {},
   "outputs": [
    {
     "name": "stdout",
     "output_type": "stream",
     "text": [
      "berapakah berat badan kamu? 1\n",
      "dalam satuan kg atau ons? kg\n",
      "berat anda adalah (35.0, 274) ons\n"
     ]
    }
   ],
   "source": [
    "berat = float(input(\"berapakah berat badan kamu? \"))\n",
    "kg_atau_ons = input (\"dalam satuan kg atau ons? \")\n",
    "\n",
    "if kg_atau_ons.upper() == 'KG' :\n",
    "    berat = berat*35,274\n",
    "    print(\"berat anda adalah \" + str(berat) + \" ons\")\n",
    "elif kg_atau_ons.upper()== 'ONS':\n",
    "    berat = berat/35,274\n",
    "    print(f\"berat anda adalah {berat} kg\")"
   ]
  },
  {
   "cell_type": "markdown",
   "id": "5f8a4811",
   "metadata": {},
   "source": [
    "# 5.11 While Loop"
   ]
  },
  {
   "cell_type": "code",
   "execution_count": 16,
   "id": "313ec448",
   "metadata": {},
   "outputs": [
    {
     "name": "stdout",
     "output_type": "stream",
     "text": [
      "angka 0 masih dibawah 10\n",
      "angka 2 masih dibawah 10\n",
      "angka 4 masih dibawah 10\n",
      "angka 6 masih dibawah 10\n",
      "angka 8 masih dibawah 10\n"
     ]
    }
   ],
   "source": [
    "a =0\n",
    "while a<10:\n",
    "    print(\"angka \" + str (a)+ \" masih dibawah 10\")\n",
    "    a+=2"
   ]
  },
  {
   "cell_type": "code",
   "execution_count": 17,
   "id": "725131ef",
   "metadata": {},
   "outputs": [
    {
     "name": "stdout",
     "output_type": "stream",
     "text": [
      "\n",
      "****\n",
      "********\n",
      "************\n",
      "****************\n"
     ]
    }
   ],
   "source": [
    "a =0\n",
    "while a < 20:\n",
    "    print(a* '*')\n",
    "    a+=4"
   ]
  }
 ],
 "metadata": {
  "kernelspec": {
   "display_name": "Python 3 (ipykernel)",
   "language": "python",
   "name": "python3"
  },
  "language_info": {
   "codemirror_mode": {
    "name": "ipython",
    "version": 3
   },
   "file_extension": ".py",
   "mimetype": "text/x-python",
   "name": "python",
   "nbconvert_exporter": "python",
   "pygments_lexer": "ipython3",
   "version": "3.9.7"
  }
 },
 "nbformat": 4,
 "nbformat_minor": 5
}
