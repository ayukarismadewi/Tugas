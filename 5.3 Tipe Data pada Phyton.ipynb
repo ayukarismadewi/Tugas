{
 "cells": [
  {
   "cell_type": "code",
   "execution_count": 2,
   "id": "7899b255",
   "metadata": {},
   "outputs": [
    {
     "name": "stdout",
     "output_type": "stream",
     "text": [
      "Berapa jumlah uang disaku anda? 100\n",
      "Berapa jumlah uang dibank? 900\n",
      "Total uang adalah Rp 100900\n"
     ]
    }
   ],
   "source": [
    "uang_disaku = input (\"Berapa jumlah uang disaku anda? \")\n",
    "uang_dibank = input (\"Berapa jumlah uang dibank? \")\n",
    "print (\"Total uang adalah Rp \" + uang_disaku + uang_dibank)"
   ]
  },
  {
   "cell_type": "code",
   "execution_count": 3,
   "id": "a8914b16",
   "metadata": {},
   "outputs": [
    {
     "name": "stdout",
     "output_type": "stream",
     "text": [
      "Berapa jumlah uang disaku anda? 100\n",
      "Berapa jumlah uang dibank? 900\n",
      "Total uang adalah Rp 1000\n"
     ]
    }
   ],
   "source": [
    "uang_disaku = input (\"Berapa jumlah uang disaku anda? \")\n",
    "uang_dibank = input (\"Berapa jumlah uang dibank? \")\n",
    "total_uang = int (uang_disaku) + int (uang_dibank)\n",
    "print (\"Total uang adalah Rp \" + str (total_uang))"
   ]
  },
  {
   "cell_type": "code",
   "execution_count": 5,
   "id": "b9c7a986",
   "metadata": {},
   "outputs": [
    {
     "name": "stdout",
     "output_type": "stream",
     "text": [
      "Berapa jumlah uang disaku anda? 5.5\n",
      "Berapa jumlah uang dibank? 4.5\n",
      "Total uang adalah Rp 10.0\n"
     ]
    }
   ],
   "source": [
    "uang_disaku = input (\"Berapa jumlah uang disaku anda? \")\n",
    "uang_dibank = input (\"Berapa jumlah uang dibank? \")\n",
    "total_uang = float (uang_disaku) + float (uang_dibank)\n",
    "print (\"Total uang adalah Rp \" + str (total_uang))"
   ]
  },
  {
   "cell_type": "code",
   "execution_count": 7,
   "id": "9ce9c31c",
   "metadata": {},
   "outputs": [
    {
     "name": "stdout",
     "output_type": "stream",
     "text": [
      "Berapa jumlah uang disaku anda? 0.5\n",
      "Berapa jumlah uang dibank? 0.01\n",
      "Total uang adalah Rp 0.51\n"
     ]
    }
   ],
   "source": [
    "uang_disaku = input (\"Berapa jumlah uang disaku anda? \")\n",
    "uang_dibank = input (\"Berapa jumlah uang dibank? \")\n",
    "total_uang = float (uang_disaku) + float (uang_dibank)\n",
    "print (\"Total uang adalah Rp \" + str (total_uang))"
   ]
  },
  {
   "cell_type": "code",
   "execution_count": 9,
   "id": "070c5404",
   "metadata": {},
   "outputs": [
    {
     "name": "stdout",
     "output_type": "stream",
     "text": [
      "Bilangan satu: 0.05\n",
      "Bilangan dua: 0.6\n",
      "Total bilangan 0.65\n"
     ]
    }
   ],
   "source": [
    "bilangan_satu = input (\"Bilangan satu: \")\n",
    "bilangan_dua = input (\"Bilangan dua: \")\n",
    "total = float (bilangan_satu) + float (bilangan_dua)\n",
    "print (\"Total bilangan \" + str (total))"
   ]
  },
  {
   "cell_type": "code",
   "execution_count": 13,
   "id": "a3552c4b",
   "metadata": {},
   "outputs": [
    {
     "name": "stdout",
     "output_type": "stream",
     "text": [
      "Bilangan satu: dua puluh\n",
      "Bilangan dua:  lima\n",
      "Total bilangan dua puluh lima\n"
     ]
    }
   ],
   "source": [
    "bilangan_satu = input (\"Bilangan satu: \")\n",
    "bilangan_dua = input (\"Bilangan dua: \")\n",
    "total = str (bilangan_satu ) + str ( bilangan_dua)\n",
    "print (\"Total bilangan \" + str ( total))"
   ]
  },
  {
   "cell_type": "code",
   "execution_count": null,
   "id": "2ce2c003",
   "metadata": {},
   "outputs": [],
   "source": []
  }
 ],
 "metadata": {
  "kernelspec": {
   "display_name": "Python 3 (ipykernel)",
   "language": "python",
   "name": "python3"
  },
  "language_info": {
   "codemirror_mode": {
    "name": "ipython",
    "version": 3
   },
   "file_extension": ".py",
   "mimetype": "text/x-python",
   "name": "python",
   "nbconvert_exporter": "python",
   "pygments_lexer": "ipython3",
   "version": "3.9.7"
  }
 },
 "nbformat": 4,
 "nbformat_minor": 5
}
