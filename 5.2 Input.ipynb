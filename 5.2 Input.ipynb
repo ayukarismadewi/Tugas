{
 "cells": [
  {
   "cell_type": "code",
   "execution_count": 3,
   "id": "3698b89d",
   "metadata": {},
   "outputs": [
    {
     "name": "stdout",
     "output_type": "stream",
     "text": [
      "Siapakah nama Anda? Ayu Karisma\n",
      "Apa kegiatan Anda sekarang, Ayu Karisma? mengerjakan tugas algoritma\n",
      "Semangat mengerjakan tugas algoritma nya yah, Ayu Karisma! \n"
     ]
    }
   ],
   "source": [
    "nama = input (\"Siapakah nama Anda? \")\n",
    "kegiatan = input ('Apa kegiatan Anda sekarang, ' + nama + \"? \")\n",
    "print (\"Semangat \" + kegiatan + \" nya yah, \" + nama + \"! \")"
   ]
  },
  {
   "cell_type": "code",
   "execution_count": 2,
   "id": "2316686e",
   "metadata": {},
   "outputs": [
    {
     "name": "stdout",
     "output_type": "stream",
     "text": [
      "Tugas apa yang dikerjakan? algoritma\n",
      "Kapan deadline dari tugas algoritma tersebut?senin\n",
      "Ayo kumpul tugas algoritma sebelum hari senin! \n"
     ]
    }
   ],
   "source": [
    "tugas = input (\"Tugas apa yang dikerjakan? \")\n",
    "kumpul = input (\"Kapan deadline dari tugas \" + tugas + ' tersebut?')\n",
    "print (\"Ayo kumpul tugas \" + tugas + \" sebelum hari \" + kumpul + \"! \" )"
   ]
  },
  {
   "cell_type": "code",
   "execution_count": null,
   "id": "30d6e828",
   "metadata": {},
   "outputs": [],
   "source": []
  }
 ],
 "metadata": {
  "kernelspec": {
   "display_name": "Python 3 (ipykernel)",
   "language": "python",
   "name": "python3"
  },
  "language_info": {
   "codemirror_mode": {
    "name": "ipython",
    "version": 3
   },
   "file_extension": ".py",
   "mimetype": "text/x-python",
   "name": "python",
   "nbconvert_exporter": "python",
   "pygments_lexer": "ipython3",
   "version": "3.9.7"
  }
 },
 "nbformat": 4,
 "nbformat_minor": 5
}
