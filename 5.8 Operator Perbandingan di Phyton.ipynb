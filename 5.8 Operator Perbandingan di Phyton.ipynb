{
 "cells": [
  {
   "cell_type": "code",
   "execution_count": 1,
   "id": "d16c73fe",
   "metadata": {},
   "outputs": [
    {
     "name": "stdout",
     "output_type": "stream",
     "text": [
      "False\n",
      "True\n",
      "True\n",
      "True\n",
      "True\n",
      "True\n"
     ]
    }
   ],
   "source": [
    "x = 3<2\n",
    "print (x)\n",
    "x = 2<3\n",
    "print (x)\n",
    "x = 3 >= 2\n",
    "print (x)\n",
    "x = 2 <= 3\n",
    "print (x)\n",
    "x = 3 == 3\n",
    "print (x)\n",
    "x = 3 != 4\n",
    "print (x)"
   ]
  },
  {
   "cell_type": "code",
   "execution_count": 2,
   "id": "5d099b36",
   "metadata": {},
   "outputs": [
    {
     "name": "stdout",
     "output_type": "stream",
     "text": [
      "True\n",
      "False\n",
      "False\n",
      "False\n",
      "False\n",
      "False\n"
     ]
    }
   ],
   "source": [
    "x = 2<3\n",
    "print (x)\n",
    "x = 3<2\n",
    "print (x)\n",
    "x = 2 >= 3\n",
    "print (x)\n",
    "x = 3 <= 2\n",
    "print (x)\n",
    "x = 3 == 4\n",
    "print (x)\n",
    "x = 3 != 3\n",
    "print (x)"
   ]
  }
 ],
 "metadata": {
  "kernelspec": {
   "display_name": "Python 3 (ipykernel)",
   "language": "python",
   "name": "python3"
  },
  "language_info": {
   "codemirror_mode": {
    "name": "ipython",
    "version": 3
   },
   "file_extension": ".py",
   "mimetype": "text/x-python",
   "name": "python",
   "nbconvert_exporter": "python",
   "pygments_lexer": "ipython3",
   "version": "3.9.7"
  }
 },
 "nbformat": 4,
 "nbformat_minor": 5
}
