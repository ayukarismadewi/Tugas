{
 "cells": [
  {
   "cell_type": "code",
   "execution_count": 3,
   "id": "6ac66e9e",
   "metadata": {},
   "outputs": [
    {
     "name": "stdout",
     "output_type": "stream",
     "text": [
      "project Algoritma menggunakan bahasa pemrograman python diposting di github sebelum senin\n"
     ]
    }
   ],
   "source": [
    "tugas = \"Algoritma\"\n",
    "bahasa = \"python\"\n",
    "tempat_mengumpul = \"github\"\n",
    "deadline = \"senin\"\n",
    "print ('project ' + tugas + ' menggunakan bahasa pemrograman ' + bahasa + ' diposting di ' + tempat_mengumpul + ' sebelum ' + deadline)"
   ]
  },
  {
   "cell_type": "code",
   "execution_count": 6,
   "id": "2be305c7",
   "metadata": {},
   "outputs": [
    {
     "name": "stdout",
     "output_type": "stream",
     "text": [
      "project Algoritma menggunakan bahasa pemrograman python diposting di github sebelum senin\n"
     ]
    }
   ],
   "source": [
    "print (f'project {tugas} menggunakan bahasa pemrograman {bahasa} diposting di {tempat_mengumpul} sebelum {deadline}')"
   ]
  },
  {
   "cell_type": "code",
   "execution_count": 7,
   "id": "fc00b833",
   "metadata": {},
   "outputs": [
    {
     "name": "stdout",
     "output_type": "stream",
     "text": [
      "project Algoritma menggunakan bahasa pemrograman python diposting di github sebelum senin\n"
     ]
    }
   ],
   "source": [
    "print (f\"project {tugas} menggunakan bahasa pemrograman {bahasa} diposting di {tempat_mengumpul} sebelum {deadline}\")"
   ]
  }
 ],
 "metadata": {
  "kernelspec": {
   "display_name": "Python 3 (ipykernel)",
   "language": "python",
   "name": "python3"
  },
  "language_info": {
   "codemirror_mode": {
    "name": "ipython",
    "version": 3
   },
   "file_extension": ".py",
   "mimetype": "text/x-python",
   "name": "python",
   "nbconvert_exporter": "python",
   "pygments_lexer": "ipython3",
   "version": "3.9.7"
  }
 },
 "nbformat": 4,
 "nbformat_minor": 5
}
