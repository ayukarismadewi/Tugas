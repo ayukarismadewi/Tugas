{
 "cells": [
  {
   "cell_type": "markdown",
   "id": "068e9367",
   "metadata": {},
   "source": [
    "# 5.12 List di Phyton\n",
    "List dapat digunakan saat kita akan merepresentasikan objek di dalam Python baik berupa string maupun berupa angka. Ini akan banyak digunakan pada saat kita mengolah data pada Python. List dapat dipanggil urutannya, bahkan isinya dapat dirubah.\n"
   ]
  },
  {
   "cell_type": "code",
   "execution_count": 1,
   "id": "ce877dcb",
   "metadata": {},
   "outputs": [
    {
     "name": "stdout",
     "output_type": "stream",
     "text": [
      "['apel', 'jeruk', 'nanas', 'melon']\n"
     ]
    }
   ],
   "source": [
    "buah = ['apel', 'jeruk', 'nanas', 'melon']\n",
    "print(buah)"
   ]
  },
  {
   "cell_type": "code",
   "execution_count": 2,
   "id": "bd6980bc",
   "metadata": {},
   "outputs": [
    {
     "name": "stdout",
     "output_type": "stream",
     "text": [
      "apel\n"
     ]
    }
   ],
   "source": [
    "print (buah[0])"
   ]
  },
  {
   "cell_type": "code",
   "execution_count": 3,
   "id": "6308b78e",
   "metadata": {},
   "outputs": [
    {
     "name": "stdout",
     "output_type": "stream",
     "text": [
      "jeruk\n"
     ]
    }
   ],
   "source": [
    "print (buah[1])"
   ]
  },
  {
   "cell_type": "code",
   "execution_count": 4,
   "id": "d0b4d021",
   "metadata": {},
   "outputs": [
    {
     "name": "stdout",
     "output_type": "stream",
     "text": [
      "nanas\n"
     ]
    }
   ],
   "source": [
    "print (buah[2])"
   ]
  },
  {
   "cell_type": "code",
   "execution_count": 5,
   "id": "c65def39",
   "metadata": {},
   "outputs": [
    {
     "name": "stdout",
     "output_type": "stream",
     "text": [
      "melon\n"
     ]
    }
   ],
   "source": [
    "print (buah[3])"
   ]
  },
  {
   "cell_type": "code",
   "execution_count": 6,
   "id": "65e8929c",
   "metadata": {},
   "outputs": [
    {
     "name": "stdout",
     "output_type": "stream",
     "text": [
      "melon\n"
     ]
    }
   ],
   "source": [
    "print (buah[-1])"
   ]
  },
  {
   "cell_type": "code",
   "execution_count": 7,
   "id": "7d376b45",
   "metadata": {},
   "outputs": [
    {
     "name": "stdout",
     "output_type": "stream",
     "text": [
      "nanas\n"
     ]
    }
   ],
   "source": [
    "print (buah[-2])"
   ]
  },
  {
   "cell_type": "code",
   "execution_count": 8,
   "id": "0e3782a1",
   "metadata": {},
   "outputs": [
    {
     "name": "stdout",
     "output_type": "stream",
     "text": [
      "jeruk\n"
     ]
    }
   ],
   "source": [
    "print (buah[-3])"
   ]
  },
  {
   "cell_type": "code",
   "execution_count": 9,
   "id": "ff19510d",
   "metadata": {},
   "outputs": [
    {
     "name": "stdout",
     "output_type": "stream",
     "text": [
      "apel\n"
     ]
    }
   ],
   "source": [
    "print (buah[-4])"
   ]
  },
  {
   "cell_type": "code",
   "execution_count": 14,
   "id": "622d9d1e",
   "metadata": {},
   "outputs": [
    {
     "name": "stdout",
     "output_type": "stream",
     "text": [
      "['manggis', 'jeruk', 'nanas', 'melon']\n"
     ]
    }
   ],
   "source": [
    "buah [0] = \"manggis\"\n",
    "print (buah)"
   ]
  },
  {
   "cell_type": "code",
   "execution_count": 15,
   "id": "445b0922",
   "metadata": {},
   "outputs": [
    {
     "name": "stdout",
     "output_type": "stream",
     "text": [
      "['manggis', 'semangka', 'nanas', 'melon']\n"
     ]
    }
   ],
   "source": [
    "buah [1] = \"semangka\"\n",
    "print (buah)"
   ]
  },
  {
   "cell_type": "code",
   "execution_count": 19,
   "id": "1841418e",
   "metadata": {},
   "outputs": [
    {
     "name": "stdout",
     "output_type": "stream",
     "text": [
      "['manggis', 'semangka', 'alpukat', 'melon']\n"
     ]
    }
   ],
   "source": [
    "buah [2] = \"alpukat\"\n",
    "print(buah)"
   ]
  },
  {
   "cell_type": "code",
   "execution_count": 20,
   "id": "0d72b116",
   "metadata": {},
   "outputs": [
    {
     "name": "stdout",
     "output_type": "stream",
     "text": [
      "['manggis', 'semangka', 'alpukat', 'pisang']\n"
     ]
    }
   ],
   "source": [
    "buah [3] = \"pisang\"\n",
    "print (buah)"
   ]
  },
  {
   "cell_type": "code",
   "execution_count": 22,
   "id": "105bca58",
   "metadata": {},
   "outputs": [
    {
     "name": "stdout",
     "output_type": "stream",
     "text": [
      "['manggis', 'semangka']\n"
     ]
    }
   ],
   "source": [
    "print (buah[0:2])"
   ]
  },
  {
   "cell_type": "code",
   "execution_count": 23,
   "id": "feb359bf",
   "metadata": {},
   "outputs": [
    {
     "name": "stdout",
     "output_type": "stream",
     "text": [
      "['alpukat', 'pisang']\n"
     ]
    }
   ],
   "source": [
    "print (buah[2:4])"
   ]
  },
  {
   "cell_type": "code",
   "execution_count": 25,
   "id": "b3d97ed7",
   "metadata": {},
   "outputs": [
    {
     "name": "stdout",
     "output_type": "stream",
     "text": [
      "['manggis', 'semangka', 'alpukat', 'pisang']\n"
     ]
    }
   ],
   "source": [
    "# Tidak merubah list yang sudah diganti\n",
    "print (buah)"
   ]
  },
  {
   "cell_type": "code",
   "execution_count": 30,
   "id": "9bef0663",
   "metadata": {},
   "outputs": [
    {
     "name": "stdout",
     "output_type": "stream",
     "text": [
      "['kalkulus', 'algoritma', 'agama']\n"
     ]
    }
   ],
   "source": [
    "mata_kuliah = ['kalkulus', 'algoritma', 'agama']\n",
    "print (mata_kuliah)"
   ]
  },
  {
   "cell_type": "code",
   "execution_count": 32,
   "id": "9e491d54",
   "metadata": {},
   "outputs": [
    {
     "name": "stdout",
     "output_type": "stream",
     "text": [
      "kalkulus\n"
     ]
    }
   ],
   "source": [
    "print (mata_kuliah[0])"
   ]
  },
  {
   "cell_type": "code",
   "execution_count": 33,
   "id": "1c948a70",
   "metadata": {},
   "outputs": [
    {
     "name": "stdout",
     "output_type": "stream",
     "text": [
      "algoritma\n"
     ]
    }
   ],
   "source": [
    "print (mata_kuliah[1])"
   ]
  },
  {
   "cell_type": "code",
   "execution_count": 34,
   "id": "fe864d35",
   "metadata": {},
   "outputs": [
    {
     "name": "stdout",
     "output_type": "stream",
     "text": [
      "agama\n"
     ]
    }
   ],
   "source": [
    "print (mata_kuliah[2])"
   ]
  },
  {
   "cell_type": "code",
   "execution_count": 35,
   "id": "1ed0297c",
   "metadata": {},
   "outputs": [
    {
     "name": "stdout",
     "output_type": "stream",
     "text": [
      "['kalkulus', 'algoritma', 'agama']\n"
     ]
    }
   ],
   "source": [
    "print (mata_kuliah[0:4])"
   ]
  },
  {
   "cell_type": "code",
   "execution_count": 38,
   "id": "15db9871",
   "metadata": {},
   "outputs": [
    {
     "name": "stdout",
     "output_type": "stream",
     "text": [
      "['kalkulus', 'algoritma', 'statistika']\n"
     ]
    }
   ],
   "source": [
    "mata_kuliah [2] = 'statistika'\n",
    "print (mata_kuliah)"
   ]
  },
  {
   "cell_type": "code",
   "execution_count": 39,
   "id": "03d30f16",
   "metadata": {},
   "outputs": [
    {
     "name": "stdout",
     "output_type": "stream",
     "text": [
      "['kalkulus', 'algoritma', 'statistika']\n"
     ]
    }
   ],
   "source": [
    "print (mata_kuliah)"
   ]
  },
  {
   "cell_type": "markdown",
   "id": "93ab17e3",
   "metadata": {},
   "source": [
    "# 5.13 Metoda List\n",
    "List merupakan objek, maka keberadaannya dapat dimanipulasi dengan menambahkan atau menghilangkan isi nya."
   ]
  },
  {
   "cell_type": "code",
   "execution_count": 12,
   "id": "37c69764",
   "metadata": {},
   "outputs": [
    {
     "name": "stdout",
     "output_type": "stream",
     "text": [
      "['Made', 'Eka', 'Dwi', 'Sari']\n"
     ]
    }
   ],
   "source": [
    "nama = ['Made', 'Eka', 'Dwi']\n",
    "nama.append('Sari')\n",
    "print(nama)"
   ]
  },
  {
   "cell_type": "code",
   "execution_count": 13,
   "id": "8fa65aa0",
   "metadata": {},
   "outputs": [
    {
     "name": "stdout",
     "output_type": "stream",
     "text": [
      "['Made', 'Dewi', 'Eka', 'Dwi', 'Sari']\n"
     ]
    }
   ],
   "source": [
    "nama.insert(1,'Dewi')\n",
    "print(nama)"
   ]
  },
  {
   "cell_type": "code",
   "execution_count": 14,
   "id": "bc07fdc8",
   "metadata": {},
   "outputs": [
    {
     "name": "stdout",
     "output_type": "stream",
     "text": [
      "['Made', 'Dewi', 'Dwi', 'Sari']\n"
     ]
    }
   ],
   "source": [
    "nama.remove('Eka')\n",
    "print(nama)"
   ]
  },
  {
   "cell_type": "code",
   "execution_count": 6,
   "id": "f9bce3a6",
   "metadata": {},
   "outputs": [
    {
     "name": "stdout",
     "output_type": "stream",
     "text": [
      "False\n"
     ]
    }
   ],
   "source": [
    "print('Eka' in nama)"
   ]
  },
  {
   "cell_type": "code",
   "execution_count": 7,
   "id": "a41519f7",
   "metadata": {},
   "outputs": [
    {
     "name": "stdout",
     "output_type": "stream",
     "text": [
      "True\n"
     ]
    }
   ],
   "source": [
    "print('Dwi' in nama)"
   ]
  },
  {
   "cell_type": "code",
   "execution_count": 15,
   "id": "91337e72",
   "metadata": {},
   "outputs": [
    {
     "name": "stdout",
     "output_type": "stream",
     "text": [
      "4\n"
     ]
    }
   ],
   "source": [
    "print(len(nama))"
   ]
  },
  {
   "cell_type": "code",
   "execution_count": 19,
   "id": "c57c87bc",
   "metadata": {},
   "outputs": [
    {
     "name": "stdout",
     "output_type": "stream",
     "text": [
      "['senin', 'selasa', 'rabu', 'kamis', 'jumat', 'sabtu', 'minggu']\n"
     ]
    }
   ],
   "source": [
    "hari = ['senin', 'selasa', 'rabu', 'kamis', 'jumat' , 'sabtu']\n",
    "hari.append('minggu')\n",
    "print(hari)"
   ]
  },
  {
   "cell_type": "code",
   "execution_count": 20,
   "id": "9764caf3",
   "metadata": {},
   "outputs": [
    {
     "name": "stdout",
     "output_type": "stream",
     "text": [
      "['senin', 'selasa', 'kamis', 'jumat', 'sabtu', 'minggu']\n"
     ]
    }
   ],
   "source": [
    "hari.remove('rabu')\n",
    "print(hari)"
   ]
  },
  {
   "cell_type": "code",
   "execution_count": 21,
   "id": "684a9dd4",
   "metadata": {},
   "outputs": [
    {
     "name": "stdout",
     "output_type": "stream",
     "text": [
      "['senin', 'selasa', 'rabu', 'kamis', 'jumat', 'sabtu', 'minggu']\n"
     ]
    }
   ],
   "source": [
    "hari.insert(2,'rabu')\n",
    "print(hari)"
   ]
  },
  {
   "cell_type": "code",
   "execution_count": 23,
   "id": "cb429020",
   "metadata": {},
   "outputs": [
    {
     "name": "stdout",
     "output_type": "stream",
     "text": [
      "True\n"
     ]
    }
   ],
   "source": [
    "print ('senin' in hari)"
   ]
  },
  {
   "cell_type": "code",
   "execution_count": 24,
   "id": "2dda59c3",
   "metadata": {},
   "outputs": [
    {
     "name": "stdout",
     "output_type": "stream",
     "text": [
      "False\n"
     ]
    }
   ],
   "source": [
    "print ('serasa' in hari)"
   ]
  },
  {
   "cell_type": "code",
   "execution_count": 25,
   "id": "d953da07",
   "metadata": {},
   "outputs": [
    {
     "name": "stdout",
     "output_type": "stream",
     "text": [
      "7\n"
     ]
    }
   ],
   "source": [
    "print(len(hari))"
   ]
  },
  {
   "cell_type": "markdown",
   "id": "c64482be",
   "metadata": {},
   "source": [
    "# 5.14 For Loop\n",
    "For loop dapat digunakan untuk memanggil semua isi list."
   ]
  },
  {
   "cell_type": "code",
   "execution_count": 26,
   "id": "0b9182ff",
   "metadata": {},
   "outputs": [
    {
     "name": "stdout",
     "output_type": "stream",
     "text": [
      "manggis\n",
      "durian\n",
      "salak\n",
      "jeruk\n"
     ]
    }
   ],
   "source": [
    "buah = ['manggis', 'durian', 'salak', 'jeruk']\n",
    "for jenis in buah:\n",
    "    print(jenis)"
   ]
  },
  {
   "cell_type": "code",
   "execution_count": 27,
   "id": "26152d36",
   "metadata": {},
   "outputs": [
    {
     "name": "stdout",
     "output_type": "stream",
     "text": [
      "manggis\n",
      "durian\n",
      "salak\n",
      "jeruk\n"
     ]
    }
   ],
   "source": [
    "i = 0\n",
    "while i < len(buah):\n",
    "    print(buah[i])\n",
    "    i+=1"
   ]
  },
  {
   "cell_type": "code",
   "execution_count": 28,
   "id": "b53cb149",
   "metadata": {},
   "outputs": [
    {
     "name": "stdout",
     "output_type": "stream",
     "text": [
      "manggis\n",
      "salak\n"
     ]
    }
   ],
   "source": [
    "i = 0\n",
    "while i < len(buah):\n",
    "    print(buah[i])\n",
    "    i+=2"
   ]
  },
  {
   "cell_type": "code",
   "execution_count": 34,
   "id": "183d1391",
   "metadata": {},
   "outputs": [
    {
     "name": "stdout",
     "output_type": "stream",
     "text": [
      "1\n",
      "2\n",
      "3\n",
      "4\n",
      "5\n",
      "6\n",
      "7\n",
      "8\n",
      "9\n",
      "10\n"
     ]
    }
   ],
   "source": [
    "bilangan = ['1', '2', '3', '4', '5', '6', '7', '8', '9', '10']\n",
    "for jenis in bilangan:\n",
    "    print(jenis)"
   ]
  },
  {
   "cell_type": "code",
   "execution_count": 45,
   "id": "abd67e14",
   "metadata": {},
   "outputs": [
    {
     "name": "stdout",
     "output_type": "stream",
     "text": [
      "1\n",
      "4\n",
      "7\n",
      "10\n"
     ]
    }
   ],
   "source": [
    "b = 0\n",
    "while b < len(bilangan):\n",
    "    print(bilangan[b])\n",
    "    b+=3"
   ]
  },
  {
   "cell_type": "code",
   "execution_count": 36,
   "id": "e104a0e1",
   "metadata": {},
   "outputs": [
    {
     "name": "stdout",
     "output_type": "stream",
     "text": [
      "*\n",
      "**\n",
      "***\n",
      "****\n",
      "*****\n",
      "******\n",
      "*******\n",
      "********\n",
      "*********\n",
      "**********\n"
     ]
    }
   ],
   "source": [
    "simbol = ['*', '**', '***', '****', '*****', '******', '*******', '********', '*********', '**********']\n",
    "for jenis in simbol:\n",
    "    print(jenis)"
   ]
  },
  {
   "cell_type": "code",
   "execution_count": 46,
   "id": "4ceb6242",
   "metadata": {},
   "outputs": [
    {
     "name": "stdout",
     "output_type": "stream",
     "text": [
      "**\n",
      "***\n",
      "****\n",
      "*****\n",
      "******\n",
      "*******\n",
      "********\n",
      "*********\n",
      "**********\n"
     ]
    }
   ],
   "source": [
    "s = 1\n",
    "while s < len(simbol):\n",
    "    print(simbol[s])\n",
    "    s+=1"
   ]
  },
  {
   "cell_type": "markdown",
   "id": "31f0dbf2",
   "metadata": {},
   "source": [
    "# 5.15 Fungsi range\n",
    "Fungsi range berguna untuk membangkitkan bilangan berurutan atau berpola yang kita inginkan. Untuk menuliskannya, perlu dikombinasikan dengan for loop."
   ]
  },
  {
   "cell_type": "code",
   "execution_count": 47,
   "id": "ddca314b",
   "metadata": {},
   "outputs": [
    {
     "name": "stdout",
     "output_type": "stream",
     "text": [
      "range(0, 6)\n"
     ]
    }
   ],
   "source": [
    "angka = range (6)\n",
    "print (angka)"
   ]
  },
  {
   "cell_type": "code",
   "execution_count": 48,
   "id": "7226661f",
   "metadata": {},
   "outputs": [
    {
     "name": "stdout",
     "output_type": "stream",
     "text": [
      "0\n",
      "1\n",
      "2\n",
      "3\n",
      "4\n",
      "5\n"
     ]
    }
   ],
   "source": [
    "for isi in angka:\n",
    "    print(isi)"
   ]
  },
  {
   "cell_type": "code",
   "execution_count": 49,
   "id": "af566297",
   "metadata": {},
   "outputs": [
    {
     "name": "stdout",
     "output_type": "stream",
     "text": [
      "5\n",
      "6\n",
      "7\n",
      "8\n",
      "9\n"
     ]
    }
   ],
   "source": [
    "for isi in range(5,10):\n",
    "    print(isi)"
   ]
  },
  {
   "cell_type": "code",
   "execution_count": 50,
   "id": "d85b1270",
   "metadata": {},
   "outputs": [
    {
     "name": "stdout",
     "output_type": "stream",
     "text": [
      "0\n",
      "2\n",
      "4\n",
      "6\n",
      "8\n"
     ]
    }
   ],
   "source": [
    "for isi in range(0,10,2):\n",
    "    print(isi)"
   ]
  },
  {
   "cell_type": "code",
   "execution_count": 54,
   "id": "7041fed0",
   "metadata": {},
   "outputs": [
    {
     "name": "stdout",
     "output_type": "stream",
     "text": [
      "1\n",
      "4\n",
      "7\n",
      "10\n",
      "13\n"
     ]
    }
   ],
   "source": [
    "for isi in range(1,14,3):\n",
    "    print(isi)"
   ]
  },
  {
   "cell_type": "markdown",
   "id": "cb8dd3cf",
   "metadata": {},
   "source": [
    "# Latihan"
   ]
  },
  {
   "cell_type": "raw",
   "id": "9ff13421",
   "metadata": {},
   "source": [
    "1. Buatlah program untuk mencari nilai terbesar di dalam suatu list. \n",
    "Jawaban:"
   ]
  },
  {
   "cell_type": "code",
   "execution_count": 56,
   "id": "a532b10f",
   "metadata": {},
   "outputs": [
    {
     "name": "stdout",
     "output_type": "stream",
     "text": [
      "5\n"
     ]
    }
   ],
   "source": [
    "data = [1,2,3,4,5,4,3,2,1]\n",
    "terbesar = data[0]\n",
    "for i in range(len(data)):\n",
    "    if data[i] > terbesar:\n",
    "        terbesar = data[i]\n",
    "print(terbesar)"
   ]
  },
  {
   "cell_type": "code",
   "execution_count": 57,
   "id": "bc8dfc91",
   "metadata": {},
   "outputs": [
    {
     "name": "stdout",
     "output_type": "stream",
     "text": [
      "5\n"
     ]
    }
   ],
   "source": [
    "data = [1,2,3,4,5,4,3,2,1]\n",
    "terbesar = data[0]\n",
    "for angka in data:\n",
    "    if angka > terbesar:\n",
    "        terbesar = angka\n",
    "print(terbesar)"
   ]
  },
  {
   "cell_type": "code",
   "execution_count": 64,
   "id": "8b24f359",
   "metadata": {},
   "outputs": [
    {
     "name": "stdout",
     "output_type": "stream",
     "text": [
      "6\n"
     ]
    }
   ],
   "source": [
    "data = [6,2,3,4,5,4,3,2,1]\n",
    "terbesar = data[8]\n",
    "for i in range(len(data)):\n",
    "    if data[i] > terbesar:\n",
    "        terbesar = data[i]\n",
    "print(terbesar)"
   ]
  },
  {
   "cell_type": "code",
   "execution_count": 65,
   "id": "24d19757",
   "metadata": {},
   "outputs": [
    {
     "name": "stdout",
     "output_type": "stream",
     "text": [
      "6\n"
     ]
    }
   ],
   "source": [
    "data = [6,2,3,4,5,4,3,2,1]\n",
    "terbesar = data[1]\n",
    "for angka in data:\n",
    "    if angka > terbesar:\n",
    "        terbesar = angka\n",
    "print(terbesar)"
   ]
  },
  {
   "cell_type": "raw",
   "id": "80352d5e",
   "metadata": {},
   "source": [
    "2. Buatlah program untuk membuat anggota list menjadi unik dengan kata lain tidak ada anggota list yang kembar. \n",
    "Jawaban: "
   ]
  },
  {
   "cell_type": "code",
   "execution_count": 1,
   "id": "d88cc5a0",
   "metadata": {},
   "outputs": [
    {
     "name": "stdout",
     "output_type": "stream",
     "text": [
      "[1, 2, 3, 4, 5, 6, 7, 8]\n"
     ]
    }
   ],
   "source": [
    "angka = [1,2,3,4,5,6,3,4,5,7,8,7]\n",
    "angka_unik = []\n",
    "for anggota in angka:\n",
    "    if anggota not in angka_unik:\n",
    "        angka_unik.append(anggota)\n",
    "print(angka_unik)"
   ]
  },
  {
   "cell_type": "code",
   "execution_count": 2,
   "id": "a6a5cb97",
   "metadata": {},
   "outputs": [
    {
     "name": "stdout",
     "output_type": "stream",
     "text": [
      "[1, 2, 3, 4, 5, 6, 7, 8]\n"
     ]
    }
   ],
   "source": [
    "angka = [1,2,3,4,5,6,3,4,5,7,8,7]\n",
    "angka_unik = [1]\n",
    "for anggota in angka:\n",
    "    if anggota not in angka_unik:\n",
    "        angka_unik.append(anggota)\n",
    "print(angka_unik)"
   ]
  },
  {
   "cell_type": "code",
   "execution_count": 3,
   "id": "95bf5374",
   "metadata": {},
   "outputs": [
    {
     "name": "stdout",
     "output_type": "stream",
     "text": [
      "[2, 1, 3, 4, 5, 6, 7, 8]\n"
     ]
    }
   ],
   "source": [
    "angka = [1,2,3,4,5,6,3,4,5,7,8,7]\n",
    "angka_unik = [2]\n",
    "for anggota in angka:\n",
    "    if anggota not in angka_unik:\n",
    "        angka_unik.append(anggota)\n",
    "print(angka_unik)"
   ]
  },
  {
   "cell_type": "code",
   "execution_count": 4,
   "id": "2628e599",
   "metadata": {},
   "outputs": [
    {
     "name": "stdout",
     "output_type": "stream",
     "text": [
      "[3, 1, 2, 4, 5, 6, 7, 8]\n"
     ]
    }
   ],
   "source": [
    "angka = [1,2,3,4,5,6,3,4,5,7,8,7]\n",
    "angka_unik = [3]\n",
    "for anggota in angka:\n",
    "    if anggota not in angka_unik:\n",
    "        angka_unik.append(anggota)\n",
    "print(angka_unik)"
   ]
  },
  {
   "cell_type": "code",
   "execution_count": 5,
   "id": "98ae9d42",
   "metadata": {},
   "outputs": [
    {
     "name": "stdout",
     "output_type": "stream",
     "text": [
      "[4, 1, 2, 3, 5, 6, 7, 8]\n"
     ]
    }
   ],
   "source": [
    "angka = [1,2,3,4,5,6,3,4,5,7,8,7]\n",
    "angka_unik = [4]\n",
    "for anggota in angka:\n",
    "    if anggota not in angka_unik:\n",
    "        angka_unik.append(anggota)\n",
    "print(angka_unik)"
   ]
  },
  {
   "cell_type": "code",
   "execution_count": 6,
   "id": "a78bb418",
   "metadata": {},
   "outputs": [
    {
     "name": "stdout",
     "output_type": "stream",
     "text": [
      "[9, 1, 2, 3, 4, 5, 6, 7, 8]\n"
     ]
    }
   ],
   "source": [
    "angka = [1,2,3,4,5,6,3,4,5,7,8,7]\n",
    "angka_unik = [9]\n",
    "for anggota in angka:\n",
    "    if anggota not in angka_unik:\n",
    "        angka_unik.append(anggota)\n",
    "print(angka_unik)"
   ]
  },
  {
   "cell_type": "code",
   "execution_count": 7,
   "id": "4bc5cf3c",
   "metadata": {},
   "outputs": [
    {
     "name": "stdout",
     "output_type": "stream",
     "text": [
      "[0, 1, 2, 3, 4, 5, 6, 7, 8]\n"
     ]
    }
   ],
   "source": [
    "angka = [0,1,2,3,4,5,6,3,4,5,7,8,7]\n",
    "angka_unik = [0]\n",
    "for anggota in angka:\n",
    "    if anggota not in angka_unik:\n",
    "        angka_unik.append(anggota)\n",
    "print(angka_unik)"
   ]
  },
  {
   "cell_type": "code",
   "execution_count": 8,
   "id": "784f2678",
   "metadata": {},
   "outputs": [
    {
     "name": "stdout",
     "output_type": "stream",
     "text": [
      "[0, -1, -2, -3, -4, -5, -6, -7, -8]\n"
     ]
    }
   ],
   "source": [
    "angka = [-1,-2,-3,-4,-5,-6,-3,-4,-5,-7,-8,-7]\n",
    "angka_unik = [0]\n",
    "for anggota in angka:\n",
    "    if anggota not in angka_unik:\n",
    "        angka_unik.append(anggota)\n",
    "print(angka_unik)"
   ]
  },
  {
   "cell_type": "code",
   "execution_count": 9,
   "id": "083d53c0",
   "metadata": {},
   "outputs": [
    {
     "name": "stdout",
     "output_type": "stream",
     "text": [
      "[1, -1, -2, -3, -4, -5, -6, -7, -8]\n"
     ]
    }
   ],
   "source": [
    "angka = [-1,-2,-3,-4,-5,-6,-3,-4,-5,-7,-8,-7]\n",
    "angka_unik = [1]\n",
    "for anggota in angka:\n",
    "    if anggota not in angka_unik:\n",
    "        angka_unik.append(anggota)\n",
    "print(angka_unik)"
   ]
  },
  {
   "cell_type": "code",
   "execution_count": 11,
   "id": "c797c017",
   "metadata": {},
   "outputs": [
    {
     "name": "stdout",
     "output_type": "stream",
     "text": [
      "[0.4, 0.5, 0.6, 0.7, 0.8, 0.9]\n"
     ]
    }
   ],
   "source": [
    "angka = [0.5,0.6,0.7,0.8,0.9,0.9]\n",
    "angka_unik = [0.4]\n",
    "for anggota in angka:\n",
    "    if anggota not in angka_unik:\n",
    "        angka_unik.append(anggota)\n",
    "print(angka_unik)"
   ]
  },
  {
   "cell_type": "markdown",
   "id": "0a038ec9",
   "metadata": {},
   "source": [
    "# List 2 Dimensi\n",
    "List 2 dimensi pada umumnya adalah menempatkan sebuah list di dalam list. Penggambarannya seperti sebuah matrik. "
   ]
  },
  {
   "cell_type": "code",
   "execution_count": 12,
   "id": "36cf0546",
   "metadata": {},
   "outputs": [
    {
     "name": "stdout",
     "output_type": "stream",
     "text": [
      "[[1, 2, 3, 4], [5, 6, 7, 8], [9, 10, 11, 12], [13, 14, 15, 16]]\n"
     ]
    }
   ],
   "source": [
    "matrik = [\n",
    "    [1,2,3,4],\n",
    "    [5,6,7,8],\n",
    "    [9,10,11,12],\n",
    "    [13,14,15,16],\n",
    "]\n",
    "print(matrik)"
   ]
  },
  {
   "cell_type": "code",
   "execution_count": 14,
   "id": "4727e1a9",
   "metadata": {},
   "outputs": [
    {
     "data": {
      "text/plain": [
       "[5, 6, 7, 8]"
      ]
     },
     "execution_count": 14,
     "metadata": {},
     "output_type": "execute_result"
    }
   ],
   "source": [
    "matrik[1]"
   ]
  },
  {
   "cell_type": "code",
   "execution_count": 19,
   "id": "f1cd9b49",
   "metadata": {},
   "outputs": [
    {
     "data": {
      "text/plain": [
       "2"
      ]
     },
     "execution_count": 19,
     "metadata": {},
     "output_type": "execute_result"
    }
   ],
   "source": [
    "matrik[0][1]"
   ]
  },
  {
   "cell_type": "code",
   "execution_count": 20,
   "id": "adc57413",
   "metadata": {},
   "outputs": [
    {
     "data": {
      "text/plain": [
       "7"
      ]
     },
     "execution_count": 20,
     "metadata": {},
     "output_type": "execute_result"
    }
   ],
   "source": [
    "matrik[1][2]"
   ]
  },
  {
   "cell_type": "code",
   "execution_count": 21,
   "id": "a44dd6a2",
   "metadata": {},
   "outputs": [
    {
     "data": {
      "text/plain": [
       "12"
      ]
     },
     "execution_count": 21,
     "metadata": {},
     "output_type": "execute_result"
    }
   ],
   "source": [
    "matrik[2][3]"
   ]
  },
  {
   "cell_type": "code",
   "execution_count": 22,
   "id": "f01bc8d3",
   "metadata": {},
   "outputs": [
    {
     "data": {
      "text/plain": [
       "13"
      ]
     },
     "execution_count": 22,
     "metadata": {},
     "output_type": "execute_result"
    }
   ],
   "source": [
    "matrik[3][0]"
   ]
  },
  {
   "cell_type": "code",
   "execution_count": 23,
   "id": "c764a16d",
   "metadata": {},
   "outputs": [
    {
     "name": "stdout",
     "output_type": "stream",
     "text": [
      "100\n"
     ]
    }
   ],
   "source": [
    "matrik[1][2]=100\n",
    "print(matrik[1][2])"
   ]
  },
  {
   "cell_type": "code",
   "execution_count": 24,
   "id": "1439fbbf",
   "metadata": {},
   "outputs": [
    {
     "data": {
      "text/plain": [
       "[[1, 2, 3, 4], [5, 6, 100, 8], [9, 10, 11, 12], [13, 14, 15, 16]]"
      ]
     },
     "execution_count": 24,
     "metadata": {},
     "output_type": "execute_result"
    }
   ],
   "source": [
    "matrik"
   ]
  },
  {
   "cell_type": "code",
   "execution_count": 42,
   "id": "39b8548d",
   "metadata": {},
   "outputs": [
    {
     "name": "stdout",
     "output_type": "stream",
     "text": [
      "[1, 2, 3, 4]\n",
      "1\n",
      "2\n",
      "3\n",
      "4\n"
     ]
    }
   ],
   "source": [
    "for baris in matrik:\n",
    "    print(baris)\n",
    "    for kolom in baris:\n",
    "        print (kolom)"
   ]
  },
  {
   "cell_type": "code",
   "execution_count": 34,
   "id": "53a94a40",
   "metadata": {},
   "outputs": [
    {
     "name": "stdout",
     "output_type": "stream",
     "text": [
      "[[1, 2, 3, 4]]\n"
     ]
    }
   ],
   "source": [
    "matrik = [\n",
    "    [1,2,3,4]\n",
    "]\n",
    "print (matrik)"
   ]
  },
  {
   "cell_type": "code",
   "execution_count": 35,
   "id": "d2ee5250",
   "metadata": {},
   "outputs": [
    {
     "name": "stdout",
     "output_type": "stream",
     "text": [
      "[1, 2, 3, 4]\n"
     ]
    }
   ],
   "source": [
    "for baris in matrik:\n",
    "    print(baris)"
   ]
  },
  {
   "cell_type": "code",
   "execution_count": 43,
   "id": "45073bd2",
   "metadata": {},
   "outputs": [
    {
     "name": "stdout",
     "output_type": "stream",
     "text": [
      "1\n",
      "2\n",
      "3\n",
      "4\n"
     ]
    }
   ],
   "source": [
    "for kolom in baris:\n",
    "    print(kolom)"
   ]
  },
  {
   "cell_type": "markdown",
   "id": "08138d8c",
   "metadata": {},
   "source": [
    "# 5.17 Tupples\n",
    "Tuples mirip dengan list, akan tetapi tuples tidak dapat dirubah isinya. Jika kita memiliki data yang tidak ingin dirubah isinya, kita gunakan tuples."
   ]
  },
  {
   "cell_type": "code",
   "execution_count": 47,
   "id": "1cf4f308",
   "metadata": {},
   "outputs": [],
   "source": [
    "angka = (0,1,1,3,4,5)"
   ]
  },
  {
   "cell_type": "code",
   "execution_count": 48,
   "id": "19a6cc08",
   "metadata": {},
   "outputs": [
    {
     "name": "stdout",
     "output_type": "stream",
     "text": [
      "0\n"
     ]
    }
   ],
   "source": [
    "print(angka[0])"
   ]
  },
  {
   "cell_type": "code",
   "execution_count": 49,
   "id": "c48d1df4",
   "metadata": {},
   "outputs": [
    {
     "name": "stdout",
     "output_type": "stream",
     "text": [
      "(0, 1, 1)\n"
     ]
    }
   ],
   "source": [
    "print(angka[0:3])"
   ]
  },
  {
   "cell_type": "code",
   "execution_count": 50,
   "id": "3281b7dc",
   "metadata": {},
   "outputs": [
    {
     "name": "stdout",
     "output_type": "stream",
     "text": [
      "0\n",
      "1\n",
      "1\n"
     ]
    }
   ],
   "source": [
    "for isi in angka[0:3]:\n",
    "    print(isi)"
   ]
  },
  {
   "cell_type": "markdown",
   "id": "82d51915",
   "metadata": {},
   "source": [
    "#untuk code:\n",
    "angka [0]\n",
    "angka.append(10)\n",
    "angka.remove(5)\n",
    "tidak bisa dirun karena tuples tidak bisa merubah isi"
   ]
  },
  {
   "cell_type": "code",
   "execution_count": 56,
   "id": "d70e2a6f",
   "metadata": {},
   "outputs": [
    {
     "data": {
      "text/plain": [
       "2"
      ]
     },
     "execution_count": 56,
     "metadata": {},
     "output_type": "execute_result"
    }
   ],
   "source": [
    "angka.count (1)"
   ]
  },
  {
   "cell_type": "code",
   "execution_count": 57,
   "id": "e786924e",
   "metadata": {},
   "outputs": [
    {
     "data": {
      "text/plain": [
       "1"
      ]
     },
     "execution_count": 57,
     "metadata": {},
     "output_type": "execute_result"
    }
   ],
   "source": [
    "angka.count (0)"
   ]
  },
  {
   "cell_type": "code",
   "execution_count": 64,
   "id": "89df252b",
   "metadata": {},
   "outputs": [
    {
     "data": {
      "text/plain": [
       "0"
      ]
     },
     "execution_count": 64,
     "metadata": {},
     "output_type": "execute_result"
    }
   ],
   "source": [
    "angka.count (2)"
   ]
  },
  {
   "cell_type": "code",
   "execution_count": 63,
   "id": "324f419d",
   "metadata": {},
   "outputs": [
    {
     "data": {
      "text/plain": [
       "1"
      ]
     },
     "execution_count": 63,
     "metadata": {},
     "output_type": "execute_result"
    }
   ],
   "source": [
    "angka.count (4)"
   ]
  },
  {
   "cell_type": "code",
   "execution_count": 61,
   "id": "8112a1b4",
   "metadata": {},
   "outputs": [
    {
     "data": {
      "text/plain": [
       "1"
      ]
     },
     "execution_count": 61,
     "metadata": {},
     "output_type": "execute_result"
    }
   ],
   "source": [
    "angka.count (5)"
   ]
  },
  {
   "cell_type": "code",
   "execution_count": 65,
   "id": "c617048c",
   "metadata": {},
   "outputs": [
    {
     "data": {
      "text/plain": [
       "0"
      ]
     },
     "execution_count": 65,
     "metadata": {},
     "output_type": "execute_result"
    }
   ],
   "source": [
    "angka.count (6)"
   ]
  },
  {
   "cell_type": "code",
   "execution_count": 66,
   "id": "2905c8ca",
   "metadata": {},
   "outputs": [
    {
     "data": {
      "text/plain": [
       "0"
      ]
     },
     "execution_count": 66,
     "metadata": {},
     "output_type": "execute_result"
    }
   ],
   "source": [
    "angka.count (7)"
   ]
  },
  {
   "cell_type": "code",
   "execution_count": 67,
   "id": "4a7e0128",
   "metadata": {},
   "outputs": [],
   "source": [
    "no_hp = (0,8,2,1,4,6,4,3,1,6,7,8)"
   ]
  },
  {
   "cell_type": "code",
   "execution_count": 69,
   "id": "f49fc580",
   "metadata": {},
   "outputs": [
    {
     "data": {
      "text/plain": [
       "2"
      ]
     },
     "execution_count": 69,
     "metadata": {},
     "output_type": "execute_result"
    }
   ],
   "source": [
    "no_hp.count (4)"
   ]
  },
  {
   "cell_type": "code",
   "execution_count": 72,
   "id": "6c8cfc84",
   "metadata": {},
   "outputs": [
    {
     "name": "stdout",
     "output_type": "stream",
     "text": [
      "(0, 8, 2, 1, 4, 6, 4, 3, 1, 6, 7, 8)\n"
     ]
    }
   ],
   "source": [
    "print (no_hp [0:12])"
   ]
  },
  {
   "cell_type": "code",
   "execution_count": 73,
   "id": "8481b1e1",
   "metadata": {},
   "outputs": [
    {
     "data": {
      "text/plain": [
       "10"
      ]
     },
     "execution_count": 73,
     "metadata": {},
     "output_type": "execute_result"
    }
   ],
   "source": [
    "no_hp.index (7)"
   ]
  },
  {
   "cell_type": "markdown",
   "id": "4851c8f3",
   "metadata": {},
   "source": [
    "# 5.18 Dictionaries\n",
    "Dictionaries digunakan jika data nya terkait satu sama lain. Misalnya data seseorang yang terdiri dari umur, nama, tanggal lahir merupakan satu kesatuan data yang bersumber dari orang tersebut."
   ]
  },
  {
   "cell_type": "code",
   "execution_count": 1,
   "id": "83e30498",
   "metadata": {},
   "outputs": [],
   "source": [
    "data_orang = {\n",
    "    \"nama\" : \"Ketut Dogler\",\n",
    "    \"umur\" : 12,\n",
    "    \"apakah_singel\" : False\n",
    "}"
   ]
  },
  {
   "cell_type": "code",
   "execution_count": 2,
   "id": "49228e28",
   "metadata": {},
   "outputs": [
    {
     "name": "stdout",
     "output_type": "stream",
     "text": [
      "Ketut Dogler\n"
     ]
    }
   ],
   "source": [
    "print(data_orang['nama'])"
   ]
  },
  {
   "cell_type": "raw",
   "id": "106b9156",
   "metadata": {},
   "source": [
    "print(data_orang['Nama'] tidak bisa dirun sebab kata nama pada data tidak menggunakan hurup kapital."
   ]
  },
  {
   "cell_type": "code",
   "execution_count": 3,
   "id": "44d37a26",
   "metadata": {},
   "outputs": [
    {
     "name": "stdout",
     "output_type": "stream",
     "text": [
      "Ketut Dogler\n"
     ]
    }
   ],
   "source": [
    "print(data_orang.get('nama'))"
   ]
  },
  {
   "cell_type": "code",
   "execution_count": 4,
   "id": "4a7437f2",
   "metadata": {},
   "outputs": [
    {
     "name": "stdout",
     "output_type": "stream",
     "text": [
      "None\n"
     ]
    }
   ],
   "source": [
    "print(data_orang.get('Nama'))"
   ]
  },
  {
   "cell_type": "code",
   "execution_count": 5,
   "id": "b1a233e5",
   "metadata": {},
   "outputs": [
    {
     "name": "stdout",
     "output_type": "stream",
     "text": [
      "Ketut Dogler\n"
     ]
    }
   ],
   "source": [
    "print(data_orang.get('Nama', 'Ketut Dogler'))"
   ]
  },
  {
   "cell_type": "code",
   "execution_count": 6,
   "id": "b5ffea89",
   "metadata": {},
   "outputs": [
    {
     "name": "stdout",
     "output_type": "stream",
     "text": [
      "None\n"
     ]
    }
   ],
   "source": [
    "print(data_orang.get('tanggal_lahir'))"
   ]
  },
  {
   "cell_type": "code",
   "execution_count": 7,
   "id": "38034dbe",
   "metadata": {},
   "outputs": [
    {
     "name": "stdout",
     "output_type": "stream",
     "text": [
      "2-2-2010\n"
     ]
    }
   ],
   "source": [
    "print(data_orang.get('tanggal_lahir','2-2-2010'))"
   ]
  },
  {
   "cell_type": "code",
   "execution_count": 8,
   "id": "0ab48a52",
   "metadata": {},
   "outputs": [
    {
     "name": "stdout",
     "output_type": "stream",
     "text": [
      "{'nama': 'Ketut Dogler', 'umur': 12, 'apakah_singel': False}\n"
     ]
    }
   ],
   "source": [
    "print(data_orang)"
   ]
  },
  {
   "cell_type": "code",
   "execution_count": 9,
   "id": "52c0d560",
   "metadata": {},
   "outputs": [],
   "source": [
    "data_orang['tanggal_lahir'] = '2 - 2 - 2010'"
   ]
  },
  {
   "cell_type": "code",
   "execution_count": 10,
   "id": "ab172b36",
   "metadata": {},
   "outputs": [
    {
     "name": "stdout",
     "output_type": "stream",
     "text": [
      "2 - 2 - 2010\n"
     ]
    }
   ],
   "source": [
    "print(data_orang[\"tanggal_lahir\"])"
   ]
  },
  {
   "cell_type": "code",
   "execution_count": 11,
   "id": "79b16d66",
   "metadata": {},
   "outputs": [],
   "source": [
    "data_orang['HP'] = +6281337677082"
   ]
  },
  {
   "cell_type": "code",
   "execution_count": 12,
   "id": "60759fb8",
   "metadata": {},
   "outputs": [
    {
     "name": "stdout",
     "output_type": "stream",
     "text": [
      "6281337677082\n"
     ]
    }
   ],
   "source": [
    "print(data_orang[\"HP\"])"
   ]
  },
  {
   "cell_type": "code",
   "execution_count": 13,
   "id": "7f8f8cf8",
   "metadata": {},
   "outputs": [
    {
     "name": "stdout",
     "output_type": "stream",
     "text": [
      "{'nama': 'Ketut Dogler', 'umur': 12, 'apakah_singel': False, 'tanggal_lahir': '2 - 2 - 2010', 'HP': 6281337677082}\n"
     ]
    }
   ],
   "source": [
    "print(data_orang)"
   ]
  },
  {
   "cell_type": "markdown",
   "id": "b42ed97d",
   "metadata": {},
   "source": [
    "# Latihan\n",
    "Buatlah program untuk merubah nomor HP yang tadinya berupa angka menjadi sebutan bilangan tersebut. Misalnya angka 0812 akan menjadi nol delapan satu dua. \n",
    "Jawaban :"
   ]
  },
  {
   "cell_type": "code",
   "execution_count": 108,
   "id": "4805cae9",
   "metadata": {},
   "outputs": [],
   "source": [
    "angka ={\n",
    "    \"0\" : \"nol\",\n",
    "    \"1\" : \"satu\",\n",
    "    \"2\" : \"dua\",\n",
    "    \"3\" : \"tiga\",\n",
    "    \"4\" : \"empat\",\n",
    "    \"5\" : \"lima\",\n",
    "    \"6\" : \"enam\",\n",
    "    \"7\" : \"tujuh\",\n",
    "    \"8\" : \"delapan\",\n",
    "    \"9\" : \"sembilan\"\n",
    "}"
   ]
  },
  {
   "cell_type": "code",
   "execution_count": 110,
   "id": "5158d403",
   "metadata": {},
   "outputs": [
    {
     "name": "stdout",
     "output_type": "stream",
     "text": [
      "Masukkan nomor HP anda 082146431678\n",
      "nol delapan dua satu empat enam empat tiga satu enam tujuh delapan \n"
     ]
    }
   ],
   "source": [
    "nomor_HP = input(\"Masukkan nomor HP anda \")\n",
    "nomor_angka = \"\"\n",
    "for isi in nomor_HP:\n",
    "    nomor_angka += angka.get(isi) + \" \"\n",
    "print(nomor_angka)"
   ]
  },
  {
   "cell_type": "code",
   "execution_count": 111,
   "id": "25cbfb91",
   "metadata": {},
   "outputs": [],
   "source": [
    "angka ={\n",
    "    \"0\" : \"nol\",\n",
    "    \"1\" : \"satu\",\n",
    "    \"2\" : \"dua\",\n",
    "    \"3\" : \"tiga\",\n",
    "    \"4\" : \"empat\",\n",
    "    \"5\" : \"lima\",\n",
    "    \"6\" : \"enam\",\n",
    "    \"7\" : \"tujuh\",\n",
    "    \"8\" : \"delapan\",\n",
    "    \"9\" : \"sembilan\"\n",
    "}"
   ]
  },
  {
   "cell_type": "code",
   "execution_count": 112,
   "id": "9dfdd5b2",
   "metadata": {},
   "outputs": [
    {
     "name": "stdout",
     "output_type": "stream",
     "text": [
      "Masukkan pin atm anda 1234\n",
      "satu dua tiga empat \n"
     ]
    }
   ],
   "source": [
    "pin_atm = input(\"Masukkan pin atm anda \")\n",
    "nomor_pin = \"\"\n",
    "for isi in pin_atm:\n",
    "    nomor_pin += angka.get(isi) + \" \"\n",
    "print(nomor_pin)"
   ]
  },
  {
   "cell_type": "markdown",
   "id": "44073975",
   "metadata": {},
   "source": [
    "# 5.19 Fungsi dalam Phython\n",
    "Pada dasarnya fungsi dibentuk untuk menghidari pengulangan pembuatan program secara manual dimana fungsi tersebut memiliki pengulangan yang tinggi dalam program yang kita buat. Jadi untuk mempermudah dan meringkas program yang kita buat, setiap fungsi tersebut dibutuhkan tinggal kita panggil."
   ]
  },
  {
   "cell_type": "code",
   "execution_count": 19,
   "id": "7a9f972f",
   "metadata": {},
   "outputs": [],
   "source": [
    "def full_name(first_name,last_name):\n",
    "    print(f\"My full name is {first_name} {last_name}\")"
   ]
  },
  {
   "cell_type": "code",
   "execution_count": 20,
   "id": "8b0d6821",
   "metadata": {},
   "outputs": [
    {
     "name": "stdout",
     "output_type": "stream",
     "text": [
      "My first name is Karisma\n",
      "My last name is Bolkiah\n",
      "My full name is Karisma Bolkiah\n"
     ]
    }
   ],
   "source": [
    "first_name = input(\"My first name is \")\n",
    "last_name = input(\"My last name is \")\n",
    "full_name(first_name,last_name)"
   ]
  },
  {
   "cell_type": "code",
   "execution_count": 23,
   "id": "863666ab",
   "metadata": {},
   "outputs": [],
   "source": [
    "def alamat_lengkap(nama_jalan,kota_asal):\n",
    "    print(f\"Alamat lengkap di {nama_jalan} {kota_asal}\")"
   ]
  },
  {
   "cell_type": "code",
   "execution_count": 24,
   "id": "a3b30d3f",
   "metadata": {},
   "outputs": [
    {
     "name": "stdout",
     "output_type": "stream",
     "text": [
      "masukkan nama jalan rumah anda Jalan Danau Toba\n",
      "masukkan kota asal anda Tabanan\n",
      "Alamat lengkap di Jalan Danau Toba Tabanan\n"
     ]
    }
   ],
   "source": [
    "nama_jalan = input (\"masukkan nama jalan rumah anda \")\n",
    "kota_asal = input (\"masukkan kota asal anda \")\n",
    "alamat_lengkap(nama_jalan,kota_asal)"
   ]
  },
  {
   "cell_type": "markdown",
   "id": "566929b5",
   "metadata": {},
   "source": [
    "## 5.19.1 Tugas fungsi pada Phython\n",
    "Ada dua jenis tugas fungsi pada Python yaitu:\n",
    "1. Menjalankan perintah.\n",
    "2. Menampilkan hasil perhitungan"
   ]
  },
  {
   "cell_type": "code",
   "execution_count": 27,
   "id": "473aecaa",
   "metadata": {},
   "outputs": [],
   "source": [
    "def waktu_sampai(jarak,kecepatan):\n",
    "    waktu = jarak/kecepatan\n",
    "    print(waktu)"
   ]
  },
  {
   "cell_type": "code",
   "execution_count": 28,
   "id": "f480a987",
   "metadata": {},
   "outputs": [],
   "source": [
    "def waktu_tempuh(jarak,kecepatan):\n",
    "    waktu = jarak/kecepatan\n",
    "    return waktu"
   ]
  },
  {
   "cell_type": "code",
   "execution_count": 29,
   "id": "687d005b",
   "metadata": {},
   "outputs": [
    {
     "name": "stdout",
     "output_type": "stream",
     "text": [
      "1.3333333333333333\n"
     ]
    }
   ],
   "source": [
    "waktu_sampai (80,60)"
   ]
  },
  {
   "cell_type": "code",
   "execution_count": 32,
   "id": "0c6a21c5",
   "metadata": {},
   "outputs": [
    {
     "name": "stdout",
     "output_type": "stream",
     "text": [
      "1.3333333333333333\n",
      "None\n"
     ]
    }
   ],
   "source": [
    "a = waktu_sampai(80,60)\n",
    "print(a)"
   ]
  },
  {
   "cell_type": "code",
   "execution_count": 31,
   "id": "2fcbec6a",
   "metadata": {},
   "outputs": [
    {
     "name": "stdout",
     "output_type": "stream",
     "text": [
      "1.3333333333333333\n"
     ]
    }
   ],
   "source": [
    "b = waktu_tempuh(80,60)\n",
    "print(b)"
   ]
  },
  {
   "cell_type": "code",
   "execution_count": 3,
   "id": "5e487e69",
   "metadata": {},
   "outputs": [],
   "source": [
    "def luas_persegi_panjang(panjang,lebar):\n",
    "    luas = panjang*lebar\n",
    "    print(luas)"
   ]
  },
  {
   "cell_type": "code",
   "execution_count": 5,
   "id": "e099d6b4",
   "metadata": {},
   "outputs": [
    {
     "name": "stdout",
     "output_type": "stream",
     "text": [
      "20\n"
     ]
    }
   ],
   "source": [
    "luas_persegi_panjang (5,4)"
   ]
  },
  {
   "cell_type": "code",
   "execution_count": 4,
   "id": "4a629ec2",
   "metadata": {},
   "outputs": [
    {
     "name": "stdout",
     "output_type": "stream",
     "text": [
      "20\n",
      "None\n"
     ]
    }
   ],
   "source": [
    "a = luas(5,4)\n",
    "print(a)"
   ]
  },
  {
   "cell_type": "markdown",
   "id": "71e71dd5",
   "metadata": {},
   "source": [
    "## Latihan: \n",
    "Buatlah program yang menggunakan fungsi Python untuk menghitung luas \n",
    "segitiga, lingkaran, persegi dan persegi panjang. \n",
    "Selain itu berikan peringatan bagi bidang lain yang tidak termasuk perhitungan. \n",
    "Jawab:"
   ]
  },
  {
   "cell_type": "code",
   "execution_count": 6,
   "id": "2d40a69a",
   "metadata": {},
   "outputs": [],
   "source": [
    "import numpy as np"
   ]
  },
  {
   "cell_type": "code",
   "execution_count": 7,
   "id": "27ae9c28",
   "metadata": {},
   "outputs": [],
   "source": [
    "def luas_segitiga(alas,tinggi):\n",
    "    luas = (1/2)*alas*tinggi\n",
    "    return luas\n",
    "def luas_lingkaran(jari_jari):\n",
    "    luas = np.pi*(jari_jari**2)\n",
    "    return luas\n",
    "def luas_persegi(sisi):\n",
    "    luas = sisi**2\n",
    "    return luas\n",
    "def luas_persegi_panjang(panjang,lebar):\n",
    "    luas = panjang*lebar\n",
    "    return luas"
   ]
  },
  {
   "cell_type": "code",
   "execution_count": 13,
   "id": "94c2e8ab",
   "metadata": {},
   "outputs": [
    {
     "name": "stdout",
     "output_type": "stream",
     "text": [
      "Tulis jenis bidangnya persegi panjang\n",
      "Berapakah panjangnya? 4\n",
      "Berapakah lebarnya? 6\n",
      "Luas persegi panjang adalah 24.0\n"
     ]
    }
   ],
   "source": [
    "jenis_bidang = input(\"Tulis jenis bidangnya \")\n",
    "if jenis_bidang.upper() == 'SEGITIGA':\n",
    "    alas = float(input('Berapakah panjang alasnya? '))\n",
    "    tinggi = float(input('Berapakah tingginya? '))\n",
    "    luas = luas_segitiga(alas,tinggi)\n",
    "    print(f\"Luas {jenis_bidang} adalah {luas}\")\n",
    "elif jenis_bidang.upper() == 'LINGKARAN':\n",
    "    jari_jari = float(input('Berapakah panjang jari-jarinya? '))\n",
    "    luas = luas_lingkaran(jari_jari)\n",
    "    print(f\"Luas {jenis_bidang} adalah {luas}\")\n",
    "elif (jenis_bidang.upper() == 'PERSEGI') or (jenis_bidang.upper() == 'BUJUR SANGKAR'):\n",
    "    sisi = float(input('Berapakah panjang sisinya? '))\n",
    "    luas = luas_persegi(sisi)\n",
    "    print(f\"Luas {jenis_bidang} adalah {luas}\")\n",
    "elif jenis_bidang.upper() == 'PERSEGI PANJANG':\n",
    "    panjang = float(input('Berapakah panjangnya? '))\n",
    "    lebar = float(input('Berapakah lebarnya? '))\n",
    "    luas = luas_persegi_panjang(panjang,lebar)\n",
    "    print(f\"Luas {jenis_bidang} adalah {luas}\")\n",
    "else : \n",
    "    print(f\"Maaf bidang {jenis_bidang} yang anda masukkan tidak ada.\")\n",
    "    print(\"pilihan cuma SEGITIGA, LINGKARAN, PERSEGI dan PERSEGI PANJANG.\")\n",
    "    print('Terimakasih')"
   ]
  },
  {
   "cell_type": "code",
   "execution_count": 10,
   "id": "1d53a34f",
   "metadata": {},
   "outputs": [
    {
     "name": "stdout",
     "output_type": "stream",
     "text": [
      "Tulis jenis bidangnya persegi\n",
      "Berapakah panjang sisinya? 4\n",
      "Luas persegi adalah 16.0\n"
     ]
    }
   ],
   "source": [
    "jenis_bidang = input(\"Tulis jenis bidangnya \")\n",
    "if jenis_bidang.upper() == 'SEGITIGA':\n",
    "    alas = float(input('Berapakah panjang alasnya? '))\n",
    "    tinggi = float(input('Berapakah tingginya? '))\n",
    "    luas = luas_segitiga(alas,tinggi)\n",
    "    print(f\"Luas {jenis_bidang} adalah {luas}\")\n",
    "elif jenis_bidang.upper() == 'LINGKARAN':\n",
    "    jari_jari = float(input('Berapakah panjang jari-jarinya? '))\n",
    "    luas = luas_lingkaran(jari_jari)\n",
    "    print(f\"Luas {jenis_bidang} adalah {luas}\")\n",
    "elif (jenis_bidang.upper() == 'PERSEGI') or (jenis_bidang.upper() == 'BUJUR SANGKAR'):\n",
    "    sisi = float(input('Berapakah panjang sisinya? '))\n",
    "    luas = luas_persegi(sisi)\n",
    "    print(f\"Luas {jenis_bidang} adalah {luas}\")\n",
    "elif jenis_bidang.upper() == 'PERSEGI PANJANG':\n",
    "    panjang = float(input('Berapakah panjangnya? '))\n",
    "    lebar = float(input('Berapakah lebarnya? '))\n",
    "    luas = luas_persegi_panjang(panjang,lebar)\n",
    "    print(f\"Luas {jenis_bidang} adalah {luas}\")\n",
    "else : \n",
    "    print(f\"Maaf bidang {jenis_bidang} yang anda masukkan tidak ada.\")\n",
    "    print(\"pilihan cuma SEGITIGA, LINGKARAN, PERSEGI dan PERSEGI PANJANG.\")\n",
    "    print('Terimakasih')"
   ]
  },
  {
   "cell_type": "code",
   "execution_count": 11,
   "id": "d8bc4830",
   "metadata": {},
   "outputs": [
    {
     "name": "stdout",
     "output_type": "stream",
     "text": [
      "Tulis jenis bidangnya lingkaran\n",
      "Berapakah panjang jari-jarinya? 10\n",
      "Luas lingkaran adalah 314.1592653589793\n"
     ]
    }
   ],
   "source": [
    "jenis_bidang = input(\"Tulis jenis bidangnya \")\n",
    "if jenis_bidang.upper() == 'SEGITIGA':\n",
    "    alas = float(input('Berapakah panjang alasnya? '))\n",
    "    tinggi = float(input('Berapakah tingginya? '))\n",
    "    luas = luas_segitiga(alas,tinggi)\n",
    "    print(f\"Luas {jenis_bidang} adalah {luas}\")\n",
    "elif jenis_bidang.upper() == 'LINGKARAN':\n",
    "    jari_jari = float(input('Berapakah panjang jari-jarinya? '))\n",
    "    luas = luas_lingkaran(jari_jari)\n",
    "    print(f\"Luas {jenis_bidang} adalah {luas}\")\n",
    "elif (jenis_bidang.upper() == 'PERSEGI') or (jenis_bidang.upper() == 'BUJUR SANGKAR'):\n",
    "    sisi = float(input('Berapakah panjang sisinya? '))\n",
    "    luas = luas_persegi(sisi)\n",
    "    print(f\"Luas {jenis_bidang} adalah {luas}\")\n",
    "elif jenis_bidang.upper() == 'PERSEGI PANJANG':\n",
    "    panjang = float(input('Berapakah panjangnya? '))\n",
    "    lebar = float(input('Berapakah lebarnya? '))\n",
    "    luas = luas_persegi_panjang(panjang,lebar)\n",
    "    print(f\"Luas {jenis_bidang} adalah {luas}\")\n",
    "else : \n",
    "    print(f\"Maaf bidang {jenis_bidang} yang anda masukkan tidak ada.\")\n",
    "    print(\"pilihan cuma SEGITIGA, LINGKARAN, PERSEGI dan PERSEGI PANJANG.\")\n",
    "    print('Terimakasih')"
   ]
  },
  {
   "cell_type": "code",
   "execution_count": 12,
   "id": "b3c81814",
   "metadata": {},
   "outputs": [
    {
     "name": "stdout",
     "output_type": "stream",
     "text": [
      "Tulis jenis bidangnya segitiga\n",
      "Berapakah panjang alasnya? 4\n",
      "Berapakah tingginya? 6\n",
      "Luas segitiga adalah 12.0\n"
     ]
    }
   ],
   "source": [
    "jenis_bidang = input(\"Tulis jenis bidangnya \")\n",
    "if jenis_bidang.upper() == 'SEGITIGA':\n",
    "    alas = float(input('Berapakah panjang alasnya? '))\n",
    "    tinggi = float(input('Berapakah tingginya? '))\n",
    "    luas = luas_segitiga(alas,tinggi)\n",
    "    print(f\"Luas {jenis_bidang} adalah {luas}\")\n",
    "elif jenis_bidang.upper() == 'LINGKARAN':\n",
    "    jari_jari = float(input('Berapakah panjang jari-jarinya? '))\n",
    "    luas = luas_lingkaran(jari_jari)\n",
    "    print(f\"Luas {jenis_bidang} adalah {luas}\")\n",
    "elif (jenis_bidang.upper() == 'PERSEGI') or (jenis_bidang.upper() == 'BUJUR SANGKAR'):\n",
    "    sisi = float(input('Berapakah panjang sisinya? '))\n",
    "    luas = luas_persegi(sisi)\n",
    "    print(f\"Luas {jenis_bidang} adalah {luas}\")\n",
    "elif jenis_bidang.upper() == 'PERSEGI PANJANG':\n",
    "    panjang = float(input('Berapakah panjangnya? '))\n",
    "    lebar = float(input('Berapakah lebarnya? '))\n",
    "    luas = luas_persegi_panjang(panjang,lebar)\n",
    "    print(f\"Luas {jenis_bidang} adalah {luas}\")\n",
    "else : \n",
    "    print(f\"Maaf bidang {jenis_bidang} yang anda masukkan tidak ada.\")\n",
    "    print(\"pilihan cuma SEGITIGA, LINGKARAN, PERSEGI dan PERSEGI PANJANG.\")\n",
    "    print('Terimakasih')"
   ]
  },
  {
   "cell_type": "code",
   "execution_count": 15,
   "id": "eae12ae3",
   "metadata": {},
   "outputs": [
    {
     "name": "stdout",
     "output_type": "stream",
     "text": [
      "Tulis jenis bidangnya jajar genjang\n",
      "Maaf bidang jajar genjang yang anda masukkan tidak ada.\n",
      "pilihan cuma SEGITIGA, LINGKARAN, PERSEGI dan PERSEGI PANJANG.\n",
      "Terimakasih\n"
     ]
    }
   ],
   "source": [
    "jenis_bidang = input(\"Tulis jenis bidangnya \")\n",
    "if jenis_bidang.upper() == 'SEGITIGA':\n",
    "    alas = float(input('Berapakah panjang alasnya? '))\n",
    "    tinggi = float(input('Berapakah tingginya? '))\n",
    "    luas = luas_segitiga(alas,tinggi)\n",
    "    print(f\"Luas {jenis_bidang} adalah {luas}\")\n",
    "elif jenis_bidang.upper() == 'LINGKARAN':\n",
    "    jari_jari = float(input('Berapakah panjang jari-jarinya? '))\n",
    "    luas = luas_lingkaran(jari_jari)\n",
    "    print(f\"Luas {jenis_bidang} adalah {luas}\")\n",
    "elif (jenis_bidang.upper() == 'PERSEGI') or (jenis_bidang.upper() == 'BUJUR SANGKAR'):\n",
    "    sisi = float(input('Berapakah panjang sisinya? '))\n",
    "    luas = luas_persegi(sisi)\n",
    "    print(f\"Luas {jenis_bidang} adalah {luas}\")\n",
    "elif jenis_bidang.upper() == 'PERSEGI PANJANG':\n",
    "    panjang = float(input('Berapakah panjangnya? '))\n",
    "    lebar = float(input('Berapakah lebarnya? '))\n",
    "    luas = luas_persegi_panjang(panjang,lebar)\n",
    "    print(f\"Luas {jenis_bidang} adalah {luas}\")\n",
    "else : \n",
    "    print(f\"Maaf bidang {jenis_bidang} yang anda masukkan tidak ada.\")\n",
    "    print(\"pilihan cuma SEGITIGA, LINGKARAN, PERSEGI dan PERSEGI PANJANG.\")\n",
    "    print('Terimakasih')"
   ]
  }
 ],
 "metadata": {
  "kernelspec": {
   "display_name": "Python 3 (ipykernel)",
   "language": "python",
   "name": "python3"
  },
  "language_info": {
   "codemirror_mode": {
    "name": "ipython",
    "version": 3
   },
   "file_extension": ".py",
   "mimetype": "text/x-python",
   "name": "python",
   "nbconvert_exporter": "python",
   "pygments_lexer": "ipython3",
   "version": "3.9.7"
  }
 },
 "nbformat": 4,
 "nbformat_minor": 5
}
