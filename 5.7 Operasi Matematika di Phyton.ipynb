{
 "cells": [
  {
   "cell_type": "code",
   "execution_count": 25,
   "id": "9c7c5736",
   "metadata": {},
   "outputs": [
    {
     "name": "stdout",
     "output_type": "stream",
     "text": [
      "11\n",
      "99\n",
      "10.0\n",
      "20\n",
      "2\n",
      "16\n",
      "25\n",
      "50\n"
     ]
    }
   ],
   "source": [
    "print (5+6)\n",
    "print (100-1)\n",
    "print (100/10)\n",
    "print (20*1)\n",
    "print (5%3)\n",
    "print (4**2)\n",
    "x=20\n",
    "x+= 5\n",
    "print(x)\n",
    "x+=25"
   ]
  },
  {
   "cell_type": "code",
   "execution_count": null,
   "id": "5db9bfa0",
   "metadata": {},
   "outputs": [],
   "source": []
  }
 ],
 "metadata": {
  "kernelspec": {
   "display_name": "Python 3 (ipykernel)",
   "language": "python",
   "name": "python3"
  },
  "language_info": {
   "codemirror_mode": {
    "name": "ipython",
    "version": 3
   },
   "file_extension": ".py",
   "mimetype": "text/x-python",
   "name": "python",
   "nbconvert_exporter": "python",
   "pygments_lexer": "ipython3",
   "version": "3.9.7"
  }
 },
 "nbformat": 4,
 "nbformat_minor": 5
}
