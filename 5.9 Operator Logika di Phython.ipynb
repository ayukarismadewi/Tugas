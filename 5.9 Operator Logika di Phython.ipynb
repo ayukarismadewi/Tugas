{
 "cells": [
  {
   "cell_type": "code",
   "execution_count": 1,
   "id": "db47b7fd",
   "metadata": {},
   "outputs": [
    {
     "name": "stdout",
     "output_type": "stream",
     "text": [
      "True\n"
     ]
    }
   ],
   "source": [
    "bilangan_satu = 11\n",
    "bilangan_kedua = 20\n",
    "print (bilangan_satu > 10 and bilangan_kedua < 21)"
   ]
  },
  {
   "cell_type": "code",
   "execution_count": 2,
   "id": "21876548",
   "metadata": {},
   "outputs": [
    {
     "name": "stdout",
     "output_type": "stream",
     "text": [
      "True\n"
     ]
    }
   ],
   "source": [
    "print (bilangan_satu < 10 or bilangan_kedua < 21)"
   ]
  },
  {
   "cell_type": "code",
   "execution_count": 3,
   "id": "32323995",
   "metadata": {},
   "outputs": [
    {
     "name": "stdout",
     "output_type": "stream",
     "text": [
      "False\n"
     ]
    }
   ],
   "source": [
    "print (bilangan_satu < 10 or bilangan_kedua > 21)"
   ]
  },
  {
   "cell_type": "code",
   "execution_count": 6,
   "id": "92fca9e9",
   "metadata": {},
   "outputs": [
    {
     "name": "stdout",
     "output_type": "stream",
     "text": [
      "True\n"
     ]
    }
   ],
   "source": [
    "print (bilangan_satu > 10 or bilangan_kedua > 21)"
   ]
  },
  {
   "cell_type": "code",
   "execution_count": 7,
   "id": "e012edb2",
   "metadata": {},
   "outputs": [
    {
     "name": "stdout",
     "output_type": "stream",
     "text": [
      "True\n"
     ]
    }
   ],
   "source": [
    "print (not bilangan_satu < 10 or bilangan_kedua > 21)"
   ]
  }
 ],
 "metadata": {
  "kernelspec": {
   "display_name": "Python 3 (ipykernel)",
   "language": "python",
   "name": "python3"
  },
  "language_info": {
   "codemirror_mode": {
    "name": "ipython",
    "version": 3
   },
   "file_extension": ".py",
   "mimetype": "text/x-python",
   "name": "python",
   "nbconvert_exporter": "python",
   "pygments_lexer": "ipython3",
   "version": "3.9.7"
  }
 },
 "nbformat": 4,
 "nbformat_minor": 5
}
