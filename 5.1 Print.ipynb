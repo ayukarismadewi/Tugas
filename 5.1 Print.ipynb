{
 "cells": [
  {
   "cell_type": "code",
   "execution_count": 13,
   "id": "2964d5ba",
   "metadata": {},
   "outputs": [
    {
     "name": "stdout",
     "output_type": "stream",
     "text": [
      "Ini Kelas Algoritma\n"
     ]
    }
   ],
   "source": [
    "print (\"Ini Kelas Algoritma\")"
   ]
  },
  {
   "cell_type": "code",
   "execution_count": 14,
   "id": "ac84d469",
   "metadata": {},
   "outputs": [
    {
     "name": "stdout",
     "output_type": "stream",
     "text": [
      "Kelas Algoritma Asik\n"
     ]
    }
   ],
   "source": [
    "print ('Kelas Algoritma Asik')"
   ]
  },
  {
   "cell_type": "code",
   "execution_count": 15,
   "id": "ed23c09a",
   "metadata": {},
   "outputs": [
    {
     "name": "stdout",
     "output_type": "stream",
     "text": [
      "Saya senang belajar algoritma\n"
     ]
    }
   ],
   "source": [
    "print (\"Saya senang belajar algoritma\")"
   ]
  },
  {
   "cell_type": "code",
   "execution_count": 16,
   "id": "34cbac16",
   "metadata": {},
   "outputs": [
    {
     "name": "stdout",
     "output_type": "stream",
     "text": [
      "He is so \"handsome\"\n"
     ]
    }
   ],
   "source": [
    "print ('He is so \"handsome\"')"
   ]
  },
  {
   "cell_type": "code",
   "execution_count": 17,
   "id": "12a521c4",
   "metadata": {},
   "outputs": [
    {
     "name": "stdout",
     "output_type": "stream",
     "text": [
      "I am so beautiful\n"
     ]
    }
   ],
   "source": [
    "print ('I am so beautiful')"
   ]
  },
  {
   "cell_type": "code",
   "execution_count": 18,
   "id": "36e51490",
   "metadata": {},
   "outputs": [
    {
     "name": "stdout",
     "output_type": "stream",
     "text": [
      "I don't know the answer\n"
     ]
    }
   ],
   "source": [
    "print (\"I don't know the answer\")"
   ]
  },
  {
   "cell_type": "code",
   "execution_count": 19,
   "id": "57b401a7",
   "metadata": {},
   "outputs": [
    {
     "name": "stdout",
     "output_type": "stream",
     "text": [
      "Have a nice day\n"
     ]
    }
   ],
   "source": [
    "print (\"Have a nice day\")"
   ]
  },
  {
   "cell_type": "code",
   "execution_count": 20,
   "id": "2c2409a8",
   "metadata": {},
   "outputs": [
    {
     "name": "stdout",
     "output_type": "stream",
     "text": [
      "Hello world\n"
     ]
    }
   ],
   "source": [
    "print (\"Hello world\")"
   ]
  },
  {
   "cell_type": "code",
   "execution_count": 21,
   "id": "d178f7ff",
   "metadata": {},
   "outputs": [
    {
     "name": "stdout",
     "output_type": "stream",
     "text": [
      "Bye world\n"
     ]
    }
   ],
   "source": [
    "print (\"Bye world\")"
   ]
  },
  {
   "cell_type": "code",
   "execution_count": 22,
   "id": "c8dac823",
   "metadata": {},
   "outputs": [
    {
     "name": "stdout",
     "output_type": "stream",
     "text": [
      "Hello algoritma\n"
     ]
    }
   ],
   "source": [
    "print (\"Hello algoritma\")"
   ]
  },
  {
   "cell_type": "code",
   "execution_count": null,
   "id": "c2168c2b",
   "metadata": {},
   "outputs": [],
   "source": []
  }
 ],
 "metadata": {
  "kernelspec": {
   "display_name": "Python 3 (ipykernel)",
   "language": "python",
   "name": "python3"
  },
  "language_info": {
   "codemirror_mode": {
    "name": "ipython",
    "version": 3
   },
   "file_extension": ".py",
   "mimetype": "text/x-python",
   "name": "python",
   "nbconvert_exporter": "python",
   "pygments_lexer": "ipython3",
   "version": "3.9.7"
  }
 },
 "nbformat": 4,
 "nbformat_minor": 5
}
