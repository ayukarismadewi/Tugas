{
 "cells": [
  {
   "cell_type": "code",
   "execution_count": 1,
   "id": "3c830bec",
   "metadata": {},
   "outputs": [
    {
     "data": {
      "text/plain": [
       "'Ini Kelas Algoritma'"
      ]
     },
     "execution_count": 1,
     "metadata": {},
     "output_type": "execute_result"
    }
   ],
   "source": [
    "\"Ini Kelas Algoritma\""
   ]
  },
  {
   "cell_type": "code",
   "execution_count": 2,
   "id": "7a29a096",
   "metadata": {},
   "outputs": [
    {
     "data": {
      "text/plain": [
       "'Kelas Algoritma Asik'"
      ]
     },
     "execution_count": 2,
     "metadata": {},
     "output_type": "execute_result"
    }
   ],
   "source": [
    "'Kelas Algoritma Asik'"
   ]
  },
  {
   "cell_type": "code",
   "execution_count": 3,
   "id": "63bbb16e",
   "metadata": {},
   "outputs": [
    {
     "data": {
      "text/plain": [
       "'Saya senang belajar algoritma'"
      ]
     },
     "execution_count": 3,
     "metadata": {},
     "output_type": "execute_result"
    }
   ],
   "source": [
    "\"Saya senang belajar algoritma\""
   ]
  },
  {
   "cell_type": "code",
   "execution_count": 4,
   "id": "e623e5e0",
   "metadata": {},
   "outputs": [
    {
     "data": {
      "text/plain": [
       "'He is so \"handsome\"'"
      ]
     },
     "execution_count": 4,
     "metadata": {},
     "output_type": "execute_result"
    }
   ],
   "source": [
    "'He is so \"handsome\"'"
   ]
  },
  {
   "cell_type": "code",
   "execution_count": 5,
   "id": "a5947cb0",
   "metadata": {},
   "outputs": [
    {
     "data": {
      "text/plain": [
       "'I am so beautiful'"
      ]
     },
     "execution_count": 5,
     "metadata": {},
     "output_type": "execute_result"
    }
   ],
   "source": [
    "'I am so beautiful'"
   ]
  },
  {
   "cell_type": "code",
   "execution_count": 6,
   "id": "9e70e61e",
   "metadata": {},
   "outputs": [
    {
     "data": {
      "text/plain": [
       "\"I don't know the answer\""
      ]
     },
     "execution_count": 6,
     "metadata": {},
     "output_type": "execute_result"
    }
   ],
   "source": [
    "\"I don't know the answer\""
   ]
  },
  {
   "cell_type": "code",
   "execution_count": 7,
   "id": "18de4122",
   "metadata": {},
   "outputs": [
    {
     "data": {
      "text/plain": [
       "'Have a nice day'"
      ]
     },
     "execution_count": 7,
     "metadata": {},
     "output_type": "execute_result"
    }
   ],
   "source": [
    "\"Have a nice day\""
   ]
  },
  {
   "cell_type": "code",
   "execution_count": 8,
   "id": "c2a0e63e",
   "metadata": {},
   "outputs": [
    {
     "data": {
      "text/plain": [
       "'Hello world'"
      ]
     },
     "execution_count": 8,
     "metadata": {},
     "output_type": "execute_result"
    }
   ],
   "source": [
    "\"Hello world\""
   ]
  },
  {
   "cell_type": "code",
   "execution_count": 9,
   "id": "575968bc",
   "metadata": {},
   "outputs": [
    {
     "data": {
      "text/plain": [
       "'Bye world'"
      ]
     },
     "execution_count": 9,
     "metadata": {},
     "output_type": "execute_result"
    }
   ],
   "source": [
    "\"Bye world\""
   ]
  },
  {
   "cell_type": "code",
   "execution_count": 10,
   "id": "5098c7eb",
   "metadata": {},
   "outputs": [
    {
     "data": {
      "text/plain": [
       "'Hello algoritma'"
      ]
     },
     "execution_count": 10,
     "metadata": {},
     "output_type": "execute_result"
    }
   ],
   "source": [
    "\"Hello algoritma\""
   ]
  },
  {
   "cell_type": "code",
   "execution_count": null,
   "id": "c9452a7c",
   "metadata": {},
   "outputs": [],
   "source": []
  }
 ],
 "metadata": {
  "kernelspec": {
   "display_name": "Python 3 (ipykernel)",
   "language": "python",
   "name": "python3"
  },
  "language_info": {
   "codemirror_mode": {
    "name": "ipython",
    "version": 3
   },
   "file_extension": ".py",
   "mimetype": "text/x-python",
   "name": "python",
   "nbconvert_exporter": "python",
   "pygments_lexer": "ipython3",
   "version": "3.9.7"
  }
 },
 "nbformat": 4,
 "nbformat_minor": 5
}
