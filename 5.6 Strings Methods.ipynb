{
 "cells": [
  {
   "cell_type": "code",
   "execution_count": 1,
   "id": "d287bdc7",
   "metadata": {},
   "outputs": [],
   "source": [
    "tugas = 'Algoritma sangat asik'"
   ]
  },
  {
   "cell_type": "code",
   "execution_count": 2,
   "id": "5c56e049",
   "metadata": {},
   "outputs": [
    {
     "name": "stdout",
     "output_type": "stream",
     "text": [
      "21\n"
     ]
    }
   ],
   "source": [
    "print(len(tugas))"
   ]
  },
  {
   "cell_type": "code",
   "execution_count": 4,
   "id": "ca506f36",
   "metadata": {},
   "outputs": [
    {
     "data": {
      "text/plain": [
       "'ALGORITMA SANGAT ASIK'"
      ]
     },
     "execution_count": 4,
     "metadata": {},
     "output_type": "execute_result"
    }
   ],
   "source": [
    "tugas.upper()"
   ]
  },
  {
   "cell_type": "code",
   "execution_count": 5,
   "id": "ff443448",
   "metadata": {},
   "outputs": [
    {
     "data": {
      "text/plain": [
       "'algoritma sangat asik'"
      ]
     },
     "execution_count": 5,
     "metadata": {},
     "output_type": "execute_result"
    }
   ],
   "source": [
    "tugas.lower()"
   ]
  },
  {
   "cell_type": "code",
   "execution_count": 9,
   "id": "259a0a38",
   "metadata": {},
   "outputs": [
    {
     "data": {
      "text/plain": [
       "0"
      ]
     },
     "execution_count": 9,
     "metadata": {},
     "output_type": "execute_result"
    }
   ],
   "source": [
    "tugas.find('Algoritma')"
   ]
  },
  {
   "cell_type": "code",
   "execution_count": 10,
   "id": "9b061a53",
   "metadata": {},
   "outputs": [
    {
     "data": {
      "text/plain": [
       "10"
      ]
     },
     "execution_count": 10,
     "metadata": {},
     "output_type": "execute_result"
    }
   ],
   "source": [
    "tugas.find('sangat')"
   ]
  },
  {
   "cell_type": "code",
   "execution_count": 11,
   "id": "40f14c32",
   "metadata": {},
   "outputs": [
    {
     "data": {
      "text/plain": [
       "17"
      ]
     },
     "execution_count": 11,
     "metadata": {},
     "output_type": "execute_result"
    }
   ],
   "source": [
    "tugas.find('asik')"
   ]
  },
  {
   "cell_type": "code",
   "execution_count": 14,
   "id": "87197a7f",
   "metadata": {},
   "outputs": [
    {
     "data": {
      "text/plain": [
       "-1"
      ]
     },
     "execution_count": 14,
     "metadata": {},
     "output_type": "execute_result"
    }
   ],
   "source": [
    "tugas.find('algoritma')"
   ]
  },
  {
   "cell_type": "code",
   "execution_count": 15,
   "id": "51f0035b",
   "metadata": {},
   "outputs": [
    {
     "data": {
      "text/plain": [
       "-1"
      ]
     },
     "execution_count": 15,
     "metadata": {},
     "output_type": "execute_result"
    }
   ],
   "source": [
    "tugas.find('Asik')"
   ]
  },
  {
   "cell_type": "code",
   "execution_count": 16,
   "id": "6c83b7a6",
   "metadata": {},
   "outputs": [
    {
     "data": {
      "text/plain": [
       "-1"
      ]
     },
     "execution_count": 16,
     "metadata": {},
     "output_type": "execute_result"
    }
   ],
   "source": [
    "tugas.find('Sangat')"
   ]
  },
  {
   "cell_type": "code",
   "execution_count": 17,
   "id": "f988fe81",
   "metadata": {},
   "outputs": [
    {
     "data": {
      "text/plain": [
       "'Algoritma sangat menyenangkan'"
      ]
     },
     "execution_count": 17,
     "metadata": {},
     "output_type": "execute_result"
    }
   ],
   "source": [
    "tugas.replace('asik','menyenangkan')"
   ]
  },
  {
   "cell_type": "code",
   "execution_count": 19,
   "id": "491c89f7",
   "metadata": {},
   "outputs": [
    {
     "name": "stdout",
     "output_type": "stream",
     "text": [
      "True\n"
     ]
    }
   ],
   "source": [
    "print ('asik' in tugas)"
   ]
  },
  {
   "cell_type": "code",
   "execution_count": 20,
   "id": "2bd814e4",
   "metadata": {},
   "outputs": [
    {
     "name": "stdout",
     "output_type": "stream",
     "text": [
      "False\n"
     ]
    }
   ],
   "source": [
    "print ('Asik' in tugas)"
   ]
  },
  {
   "cell_type": "code",
   "execution_count": 21,
   "id": "79ff1469",
   "metadata": {},
   "outputs": [
    {
     "name": "stdout",
     "output_type": "stream",
     "text": [
      "False\n"
     ]
    }
   ],
   "source": [
    "print ('menyenangkan' in tugas)"
   ]
  }
 ],
 "metadata": {
  "kernelspec": {
   "display_name": "Python 3 (ipykernel)",
   "language": "python",
   "name": "python3"
  },
  "language_info": {
   "codemirror_mode": {
    "name": "ipython",
    "version": 3
   },
   "file_extension": ".py",
   "mimetype": "text/x-python",
   "name": "python",
   "nbconvert_exporter": "python",
   "pygments_lexer": "ipython3",
   "version": "3.9.7"
  }
 },
 "nbformat": 4,
 "nbformat_minor": 5
}
